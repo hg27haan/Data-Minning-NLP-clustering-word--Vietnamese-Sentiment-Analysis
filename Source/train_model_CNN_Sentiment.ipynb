{
  "cells": [
    {
      "cell_type": "markdown",
      "metadata": {},
      "source": [
        "## 1. Import the necessary libraries"
      ]
    },
    {
      "cell_type": "code",
      "execution_count": 1,
      "metadata": {
        "colab": {
          "base_uri": "https://localhost:8080/"
        },
        "id": "ynsLjm6vGs1E",
        "outputId": "7f461a0e-e7a8-462c-b0a3-4a71cb7ce1cf"
      },
      "outputs": [
        {
          "name": "stdout",
          "output_type": "stream",
          "text": [
            "importing Jupyter notebook from EDASentimentAnalysis.ipynb\n",
            "<class 'pandas.core.frame.DataFrame'>\n",
            "RangeIndex: 7786 entries, 0 to 7785\n",
            "Data columns (total 5 columns):\n",
            " #   Column     Non-Null Count  Dtype \n",
            "---  ------     --------------  ----- \n",
            " 0   index      7786 non-null   int64 \n",
            " 1   comment    7786 non-null   object\n",
            " 2   n_star     7786 non-null   int64 \n",
            " 3   date_time  7786 non-null   object\n",
            " 4   label      7786 non-null   object\n",
            "dtypes: int64(2), object(3)\n",
            "memory usage: 304.3+ KB\n",
            "['Điện thoại khá tốt pin trâu khá mượt bắt wifi cực tốt chỉ là thỉnh thoảng máy bị đơ phải thoát ra vào lại và máy ko cập nhật lên miul 12'\n",
            " 'Lúc trước nghe bảo điện thoại chơi game nóng, nhưng mua về chiến liên quân 3 4h liên tục thì chỉ thấy ấm không nóng như lời đồn, những thứ khác thì vũng chẳng có gì để nói vì quá ngon rồi'\n",
            " '1. Máy nếu không chơi game, lướt web..., ít sử dụng thì giữ Pin cao nhất được khoảng 1 ngày 16 tiếng ( Tính luôn cả lúc ngủ nhé vì khi ngủ thì chẳng động gì tới ) . Không được 2 ngày như mn nói đâu \\n2. Nhạc nghe cứ cà giật cà giật rất khó chịu luôn\\n3. Quay video bị mờ chán \\nCòn lại okie 🙆']\n"
          ]
        }
      ],
      "source": [
        "from gensim.models import Word2Vec,KeyedVectors\n",
        "import numpy as np\n",
        "from tqdm import tqdm\n",
        "import pandas as pd\n",
        "from keras.utils import to_categorical\n",
        "import numpy as np\n",
        "from tensorflow.keras.utils import plot_model\n",
        "from pyvi import ViTokenizer\n",
        "import matplotlib.pyplot as plt\n",
        "from tensorflow.keras.callbacks import EarlyStopping\n",
        "from sklearn.manifold import TSNE\n",
        "from keras.models import Sequential\n",
        "from keras.layers import Conv2D, MaxPooling2D, Dropout, Flatten, Dense\n",
        "from keras.models import load_model\n",
        "from sklearn.preprocessing import LabelEncoder\n",
        "from sklearn.metrics import accuracy_score, precision_score, recall_score, f1_score\n",
        "import import_ipynb\n",
        "from EDASentimentAnalysis import remove_punctuation,remove_stopword"
      ]
    },
    {
      "cell_type": "markdown",
      "metadata": {},
      "source": [
        "## 2 Data preprocessing"
      ]
    },
    {
      "cell_type": "markdown",
      "metadata": {},
      "source": [
        "> Read File CSV"
      ]
    },
    {
      "cell_type": "code",
      "execution_count": 2,
      "metadata": {
        "id": "oalbYOlIH8W6"
      },
      "outputs": [],
      "source": [
        "def ReadData(path):\n",
        "    df=pd.read_csv(path,encoding='utf-8')\n",
        "    return df['comment'], df['label']"
      ]
    },
    {
      "cell_type": "markdown",
      "metadata": {},
      "source": [
        "> Execute function"
      ]
    },
    {
      "cell_type": "code",
      "execution_count": 3,
      "metadata": {
        "id": "-B-aN4V8G5d6"
      },
      "outputs": [],
      "source": [
        "X_train,y_train = ReadData(\"../Data/trainprocessed.csv\")\n",
        "X_test,y_test=ReadData(\"../Data/testprocesssed.csv\")"
      ]
    },
    {
      "cell_type": "code",
      "execution_count": 4,
      "metadata": {},
      "outputs": [
        {
          "name": "stdout",
          "output_type": "stream",
          "text": [
            "X_Train size:(7786,)\n",
            "y_train size (7786,)\n"
          ]
        }
      ],
      "source": [
        "print(f\"X_Train size:{X_train.shape}\")\n",
        "print(f\"y_train size {y_train.shape}\")"
      ]
    },
    {
      "cell_type": "markdown",
      "metadata": {},
      "source": [
        "> word separation"
      ]
    },
    {
      "cell_type": "code",
      "execution_count": 5,
      "metadata": {},
      "outputs": [],
      "source": [
        "def wordseparation(comment):\n",
        "    return [review.split() for review in comment]"
      ]
    },
    {
      "cell_type": "code",
      "execution_count": 6,
      "metadata": {},
      "outputs": [
        {
          "name": "stdout",
          "output_type": "stream",
          "text": [
            "X_Train: [['pin', 'kém', 'còn', 'miễn', 'chê', 'mua', '832019', 'tình_trạng', 'pin', 'còn', '88', 'ai', 'giống', 'tôi'], ['sao', 'gọi', 'điện_thoại', 'màn_hình', 'chấm', 'nhỏ', 'nháy', 'gần', 'camera', 'vậylúc']]\n",
            "X_test: [['điện', 'thoải', 'ổn', 'facelock', 'cực', 'nhanh', 'vân', 'tay', 'ôk', 'màn_hình', 'lớn', 'pin', 'trâu', 'liên_quân', 'zalo', 'youtube', 'một', 'ngày', 'mất', 'khoảng', '45', 'tuy', 'chip', '439', 'mượt', 'đa_nhiệm', 'khá', 'ổn'], ['mình', 'mới', 'mua', 'vivo91c', 'tải', 'ứng_dụng', 'games', 'nhanh', 'hài_lòng', 'cài', 'hình', 'nền', 'khóa', 'màn_hình', 'hay', 'mình', 'biết', 'hết', 'chức_năng', 'nó', 'tư_vấn', 'viên', 'nhiệt_tình']]\n"
          ]
        }
      ],
      "source": [
        "X_train=wordseparation(X_train)\n",
        "X_test=wordseparation(X_test)\n",
        "print(f\"X_Train: {X_train[0:2]}\")\n",
        "print(f\"X_test: {X_test[0:2]}\")"
      ]
    },
    {
      "cell_type": "markdown",
      "metadata": {},
      "source": [
        "> word embedding"
      ]
    },
    {
      "cell_type": "code",
      "execution_count": 7,
      "metadata": {},
      "outputs": [],
      "source": [
        "model_wordembedding = Word2Vec(sentences=X_train, vector_size=128, window=5, min_count=0, workers=4, sg=1)\n",
        "model_wordembedding.wv.save(\"../model/word.model\")"
      ]
    },
    {
      "cell_type": "markdown",
      "metadata": {},
      "source": [
        "> Load Model_Word2Vec"
      ]
    },
    {
      "cell_type": "code",
      "execution_count": 8,
      "metadata": {},
      "outputs": [
        {
          "name": "stdout",
          "output_type": "stream",
          "text": [
            "Number of Words: 11616\n",
            "Vector: [-0.34510052 -0.5309441   0.11333752  0.21768714  0.09074544 -0.2597414\n",
            " -0.37815377 -0.05560665 -0.02810814  0.24311577  0.47776198  0.19847083\n",
            " -0.13972904 -0.05337832  0.01811154  0.38999212 -0.29533178  0.03119879\n",
            " -0.0892988   0.12099742  0.02086498  0.31673402 -0.16022429 -0.5724134\n",
            "  0.02808717  0.1996537  -0.43567482  0.3880195  -0.08352788 -0.21556811\n",
            " -0.02358851  0.01330821  0.09913508  0.28226796 -0.05738477 -0.14700565\n",
            "  0.43756363 -0.10036079  0.12692955  0.01812893 -0.18199705  0.19082479\n",
            "  0.01554144 -0.23933606  0.1450474   0.3466477  -0.17350836 -0.36679247\n",
            " -0.07346012  0.2674262   0.1060531   0.08343203  0.22260273  0.03337986\n",
            " -0.0515368  -0.03446173  0.42023805 -0.18629868 -0.05200778  0.18574019\n",
            "  0.0971356   0.02040319  0.26250216 -0.11283372  0.24925211 -0.03018338\n",
            "  0.28465042 -0.09373843 -0.18784066 -0.33646923 -0.04361423 -0.38649493\n",
            " -0.279935   -0.09205232  0.01528657 -0.36894712  0.1091043   0.27051556\n",
            " -0.47656974  0.11062274 -0.29515004 -0.0641944   0.06188755  0.47641665\n",
            "  0.19833535  0.18379702  0.32736984 -0.12902218  0.07905575  0.36221972\n",
            " -0.15256697 -0.15616581  0.28595752 -0.21099441  0.66139334  0.33901837\n",
            " -0.17523651 -0.22462456 -0.18611427 -0.23806977 -0.46833506  0.2681254\n",
            " -0.35348728 -0.06559648  0.02484297  0.03358671 -0.31356394 -0.09074061\n",
            "  0.14387922 -0.29230487  0.10885424 -0.23886481  0.19218564  0.00861532\n",
            "  0.10528374 -0.1109039   0.1659405   0.04638522  0.11090828 -0.08097849\n",
            " -0.26031938 -0.22723652 -0.0953764  -0.29022574 -0.0386936  -0.19890982\n",
            " -0.12408602  0.04443137]\n"
          ]
        }
      ],
      "source": [
        "model_embedding = KeyedVectors.load('../model/word.model')\n",
        "num_words = len(model_embedding.index_to_key)\n",
        "print(\"Number of Words:\", num_words)\n",
        "print(\"Vector:\", model_embedding.get_vector('phần_mềm'))"
      ]
    },
    {
      "cell_type": "markdown",
      "metadata": {},
      "source": [
        "> Get a list of vector representations of words"
      ]
    },
    {
      "cell_type": "code",
      "execution_count": 9,
      "metadata": {},
      "outputs": [
        {
          "name": "stdout",
          "output_type": "stream",
          "text": [
            "[[86.44374    2.1081767]\n",
            " [92.1497    12.940096 ]]\n"
          ]
        }
      ],
      "source": [
        "# Lấy danh sách các vectơ từ\n",
        "vectors = [model_embedding.get_vector(word) for word in model_embedding.index_to_key]\n",
        "vectors_array = np.array(vectors)\n",
        "# Giảm chiều dữ liệu từ 128 chiều xuống còn 2 chiều bằng t-SNE\n",
        "tsne = TSNE(n_components=2, random_state=42)\n",
        "vectors_2d = tsne.fit_transform(vectors_array)\n",
        "print(vectors_2d[0:2])"
      ]
    },
    {
      "cell_type": "markdown",
      "metadata": {},
      "source": [
        "> Visualize the context and semantic correlation of words"
      ]
    },
    {
      "cell_type": "code",
      "execution_count": 10,
      "metadata": {},
      "outputs": [
        {
          "data": {
            "image/png": "[encoded data removed]",
            "text/plain": [
              "<Figure size 1000x1000 with 1 Axes>"
            ]
          },
          "metadata": {},
          "output_type": "display_data"
        }
      ],
      "source": [
        "# Trực quan hóa các vectơ từ\n",
        "plt.figure(figsize=(10, 10))\n",
        "num_words = 30\n",
        "# Màu cho mỗi từ\n",
        "colors = plt.cm.rainbow(np.linspace(0, 1, num_words))\n",
        "\n",
        "# Vẽ các điểm dữ liệu (từ) với màu khác nhau\n",
        "for i, word in enumerate(model_embedding.index_to_key[:num_words]):  \n",
        "    plt.scatter(vectors_2d[i, 0], vectors_2d[i, 1], marker='o', color=colors[i], alpha=0.6)\n",
        "    plt.annotate(word, xy=(vectors_2d[i, 0], vectors_2d[i, 1]), fontsize=10, color=colors[i])\n",
        "\n",
        "plt.xlabel('t-SNE Component 1')\n",
        "plt.ylabel('t-SNE Component 2')\n",
        "plt.title('t-SNE Visualization of Word Embeddings (First 30 Words)')\n",
        "plt.grid(True)\n",
        "plt.show()\n"
      ]
    },
    {
      "cell_type": "markdown",
      "metadata": {},
      "source": [
        "> Corpus"
      ]
    },
    {
      "cell_type": "code",
      "execution_count": 11,
      "metadata": {},
      "outputs": [
        {
          "data": {
            "text/plain": [
              "{'máy': 0,\n",
              " 'mua': 1,\n",
              " 'pin': 2,\n",
              " 'mình': 3,\n",
              " 'game': 4,\n",
              " 'dùng': 5,\n",
              " 'mới': 6,\n",
              " 'tốt': 7,\n",
              " 'chơi': 8,\n",
              " 'ko': 9,\n",
              " 'quá': 10,\n",
              " 'ok': 11,\n",
              " '1': 12,\n",
              " 'giá': 13,\n",
              " 'đẹp': 14,\n",
              " 'mượt': 15,\n",
              " 'nhanh': 16,\n",
              " 'sạc': 17,\n",
              " 'ngày': 18,\n",
              " 'ổn': 19,\n",
              " 'camera': 20,\n",
              " 'còn': 21,\n",
              " 'chụp': 22,\n",
              " 'thấy': 23,\n",
              " 'tầm': 24,\n",
              " 'xài': 25,\n",
              " 'hơn': 26,\n",
              " 'k': 27,\n",
              " 'về': 28,\n",
              " 'màn_hình': 29,\n",
              " 'trâu': 30,\n",
              " 'trong': 31,\n",
              " 'hơi': 32,\n",
              " 'đc': 33,\n",
              " 'khá': 34,\n",
              " 'sản_phẩm': 35,\n",
              " '2': 36,\n",
              " 'lỗi': 37,\n",
              " 'tay': 38,\n",
              " 'tháng': 39,\n",
              " 'sao': 40,\n",
              " 'hay': 41,\n",
              " 'nhân_viên': 42,\n",
              " 'mọi': 43,\n",
              " 'sử_dụng': 44,\n",
              " 'con': 45,\n",
              " 'hình': 46,\n",
              " 'sài': 47,\n",
              " 'hết': 48,\n",
              " 'vân': 49,\n",
              " 'nói_chung': 50,\n",
              " 'nhiệt_tình': 51,\n",
              " 'ngon': 52,\n",
              " 'thứ': 53,\n",
              " 'nóng': 54,\n",
              " 'lắm': 55,\n",
              " '3': 56,\n",
              " 'nghe': 57,\n",
              " 'nó': 58,\n",
              " 'loa': 59,\n",
              " 'luôn': 60,\n",
              " 'điện_thoại': 61,\n",
              " 'khác': 62,\n",
              " 'tệ': 63,\n",
              " 'lag': 64,\n",
              " 'ảnh': 65,\n",
              " 'người': 66,\n",
              " 'wifi': 67,\n",
              " 'xem': 68,\n",
              " 'mấy': 69,\n",
              " 'ở': 70,\n",
              " 'nào': 71,\n",
              " 'biết': 72,\n",
              " 'bạn': 73,\n",
              " 'lần': 74,\n",
              " 'cấu_hình': 75,\n",
              " 'dc': 76,\n",
              " 'đổi': 77,\n",
              " 'nói': 78,\n",
              " 'hàng': 79,\n",
              " 'sáng': 80,\n",
              " 'tôi': 81,\n",
              " 'đt': 82,\n",
              " 'cả': 83,\n",
              " 'đơ': 84,\n",
              " 'tuần': 85,\n",
              " 'đến': 86,\n",
              " 'tụt': 87,\n",
              " 'chạy': 88,\n",
              " 'em': 89,\n",
              " 'cảm_ứng': 90,\n",
              " '5': 91,\n",
              " 'lâu': 92,\n",
              " 'hài_lòng': 93,\n",
              " 'tgdd': 94,\n",
              " 'kém': 95,\n",
              " 'thất_vọng': 96,\n",
              " 'giật': 97,\n",
              " 'tuyệt_vời': 98,\n",
              " 'nhạy': 99,\n",
              " 'tiền': 100,\n",
              " 'bắt': 101,\n",
              " 'ạ': 102,\n",
              " 'thôi': 103,\n",
              " 'thích': 104,\n",
              " 'gọi': 105,\n",
              " 'gần': 106,\n",
              " 'lướt': 107,\n",
              " 'tạm': 108,\n",
              " 'thiết_kế': 109,\n",
              " 'nhất': 110,\n",
              " 'đi': 111,\n",
              " 'tư_vấn': 112,\n",
              " 'cao': 113,\n",
              " 'mở': 114,\n",
              " 'ai': 115,\n",
              " 'yếu': 116,\n",
              " 'hôm': 117,\n",
              " 'cam': 118,\n",
              " 'một': 119,\n",
              " 'sóng': 120,\n",
              " 'nét': 121,\n",
              " 'thật': 122,\n",
              " 'samsung': 123,\n",
              " 'liên_quân': 124,\n",
              " 'làm': 125,\n",
              " '4': 126,\n",
              " 'tắt': 127,\n",
              " 'chê': 128,\n",
              " 'ứng_dụng': 129,\n",
              " 'mất': 130,\n",
              " 'tiếng': 131,\n",
              " 'to': 132,\n",
              " 'giờ': 133,\n",
              " 'chậm': 134,\n",
              " 'mạng': 135,\n",
              " 'chán': 136,\n",
              " 'đánh_giá': 137,\n",
              " '10': 138,\n",
              " 'đầy': 139,\n",
              " 'dòng': 140,\n",
              " 'cực': 141,\n",
              " 'phục_vụ': 142,\n",
              " 'cập_nhật': 143,\n",
              " 'bằng': 144,\n",
              " 'oppo': 145,\n",
              " 'màu': 146,\n",
              " 'đáng': 147,\n",
              " 'mạnh': 148,\n",
              " 'chất_lượng': 149,\n",
              " 'muốn': 150,\n",
              " 'đầu': 151,\n",
              " 'e': 152,\n",
              " 'ngoài': 153,\n",
              " 'tới': 154,\n",
              " 'tuột': 155,\n",
              " 'cảm_thấy': 156,\n",
              " 'thể': 157,\n",
              " 'vs': 158,\n",
              " 'nghiệm': 159,\n",
              " 'bật': 160,\n",
              " 'nhận': 161,\n",
              " 'bình_thường': 162,\n",
              " 'iphone': 163,\n",
              " '4g': 164,\n",
              " 'rõ': 165,\n",
              " 'trải': 166,\n",
              " 'khỏi': 167,\n",
              " 'độ': 168,\n",
              " 'youtube': 169,\n",
              " 'mức': 170,\n",
              " 'ổn_định': 171,\n",
              " 'thêm': 172,\n",
              " 'nhìn': 173,\n",
              " 'chip': 174,\n",
              " 'nhạc': 175,\n",
              " 'hỏi': 176,\n",
              " 'đâu': 177,\n",
              " 'pubg': 178,\n",
              " 'đủ': 179,\n",
              " 'thua': 180,\n",
              " 'cầm': 181,\n",
              " 'cảm_biến': 182,\n",
              " 'nguồn': 183,\n",
              " 'nhỏ': 184,\n",
              " 'bên': 185,\n",
              " 'khoảng': 186,\n",
              " 'phim': 187,\n",
              " 'siêu': 188,\n",
              " 'hãng': 189,\n",
              " 'dù': 190,\n",
              " 'mong': 191,\n",
              " 'tối': 192,\n",
              " 'đêm': 193,\n",
              " 'nhẹ': 194,\n",
              " 'vài': 195,\n",
              " 'note': 196,\n",
              " 'ít': 197,\n",
              " 'sp': 198,\n",
              " 'tự': 199,\n",
              " 'xuống': 200,\n",
              " 'video': 201,\n",
              " 'bảo_hành': 202,\n",
              " 'năm': 203,\n",
              " 'tuyệt': 204,\n",
              " 'nhé': 205,\n",
              " 'điểm': 206,\n",
              " 'lấy': 207,\n",
              " 'việt': 208,\n",
              " 'mặt': 209,\n",
              " 'bản': 210,\n",
              " 'rẻ': 211,\n",
              " 'tất_cả': 212,\n",
              " 'cách': 213,\n",
              " 'thời_gian': 214,\n",
              " 'mờ': 215,\n",
              " 'nay': 216,\n",
              " 'lưng': 217,\n",
              " 'xong': 218,\n",
              " 'ủng_hộ': 219,\n",
              " 'đúng': 220,\n",
              " 'vụ': 221,\n",
              " 'zalo': 222,\n",
              " 'xiaomi': 223,\n",
              " 'web': 224,\n",
              " 'phần': 225,\n",
              " 'xấu': 226,\n",
              " 'fb': 227,\n",
              " 'nha': 228,\n",
              " 'liên_tục': 229,\n",
              " '8': 230,\n",
              " '7': 231,\n",
              " 'bán': 232,\n",
              " 'mặc_dù': 233,\n",
              " 'số': 234,\n",
              " 'bỏ': 235,\n",
              " 'hiệu_năng': 236,\n",
              " 'khuôn_mặt': 237,\n",
              " '100': 238,\n",
              " 'sang': 239,\n",
              " 'báo': 240,\n",
              " 'hỗ_trợ': 241,\n",
              " 'sắc': 242,\n",
              " 'chế_độ': 243,\n",
              " 'cảm_nhận': 244,\n",
              " 'dễ': 245,\n",
              " 'triệu': 246,\n",
              " 'thử': 247,\n",
              " 'ram': 248,\n",
              " 'thế': 249,\n",
              " 'tác': 250,\n",
              " 'lớn': 251,\n",
              " 'chiến': 252,\n",
              " 'mau': 253,\n",
              " 'hao': 254,\n",
              " 'nặng': 255,\n",
              " 'vô': 256,\n",
              " 'chắc': 257,\n",
              " 'chung': 258,\n",
              " 'bao': 259,\n",
              " 'bấm': 260,\n",
              " '20': 261,\n",
              " 'dt': 262,\n",
              " 'vsmart': 263,\n",
              " 'quảng_cáo': 264,\n",
              " 'max': 265,\n",
              " 'tgdđ': 266,\n",
              " 'lâu_lâu': 267,\n",
              " 'giảm': 268,\n",
              " 'nhà': 269,\n",
              " 'màn': 270,\n",
              " 'hiện': 271,\n",
              " 'trừ': 272,\n",
              " 'khắc_phục': 273,\n",
              " 'khuyên': 274,\n",
              " 'sim': 275,\n",
              " 'khởi_động': 276,\n",
              " 'xanh': 277,\n",
              " 'đem': 278,\n",
              " 'hiểu': 279,\n",
              " 'j': 280,\n",
              " 'r': 281,\n",
              " 'quay': 282,\n",
              " 'đừng': 283,\n",
              " 'phần_mềm': 284,\n",
              " 'vivo': 285,\n",
              " 'hoặc': 286,\n",
              " 'tí': 287,\n",
              " 'ốp': 288,\n",
              " 'vấn_đề': 289,\n",
              " 'trung': 290,\n",
              " 'đứng': 291,\n",
              " 'tai_nghe': 292,\n",
              " 'di_động': 293,\n",
              " 'bảo': 294,\n",
              " 'nhận_diện': 295,\n",
              " 'trả': 296,\n",
              " 'pro': 297,\n",
              " 'âm_thanh': 298,\n",
              " 'nv': 299,\n",
              " 'kiểu': 300,\n",
              " 'bin': 301,\n",
              " 'nhu_cầu': 302,\n",
              " 'cũ': 303,\n",
              " 'thế_giới': 304,\n",
              " 'phù_hợp': 305,\n",
              " 'ss': 306,\n",
              " 'chút': 307,\n",
              " 'khóa': 308,\n",
              " '6': 309,\n",
              " 'phân': 310,\n",
              " 'hình_ảnh': 311,\n",
              " 'kết_nối': 312,\n",
              " 'oke': 313,\n",
              " 'thấp': 314,\n",
              " 'tải': 315,\n",
              " 'tiếc': 316,\n",
              " 'chu_đáo': 317,\n",
              " 'tội': 318,\n",
              " 'khúc': 319,\n",
              " 'chọn': 320,\n",
              " 'nam': 321,\n",
              " 'tặng': 322,\n",
              " 'khó_chịu': 323,\n",
              " 'buồn': 324,\n",
              " 'tin': 325,\n",
              " 'mk': 326,\n",
              " 'hd': 327,\n",
              " 'chức_năng': 328,\n",
              " 'đặc_biệt': 329,\n",
              " 'bàn': 330,\n",
              " 'tui': 331,\n",
              " 'sd': 332,\n",
              " 'redmi': 333,\n",
              " 'đôi': 334,\n",
              " 'hối_hận': 335,\n",
              " 'mang': 336,\n",
              " 'bền': 337,\n",
              " 'tính_năng': 338,\n",
              " 'cảm_giác': 339,\n",
              " 'tuy': 340,\n",
              " 'mn': 341,\n",
              " 'đồng_tiền': 342,\n",
              " 'cảm_ơn': 343,\n",
              " 'đen': 344,\n",
              " 'rè': 345,\n",
              " 'màng': 346,\n",
              " 'tuy_nhiên': 347,\n",
              " 'nhảy': 348,\n",
              " 'android': 349,\n",
              " 'dán': 350,\n",
              " 'cực_kì': 351,\n",
              " 'full': 352,\n",
              " 'đọc': 353,\n",
              " 'giống': 354,\n",
              " 'hồi': 355,\n",
              " 'ae': 356,\n",
              " 'hiện_tượng': 357,\n",
              " 'tình_trạng': 358,\n",
              " 'chính': 359,\n",
              " 'chấp_nhận': 360,\n",
              " 'phút': 361,\n",
              " 'vui_vẻ': 362,\n",
              " 'hai': 363,\n",
              " 'sang_trọng': 364,\n",
              " 'thế_nào': 365,\n",
              " 'dung_lượng': 366,\n",
              " 'facebook': 367,\n",
              " 'viên': 368,\n",
              " 'đòi_hỏi': 369,\n",
              " 'test': 370,\n",
              " 'khó': 371,\n",
              " 'cuộc_gọi': 372,\n",
              " 'ảo': 373,\n",
              " 'sai': 374,\n",
              " 'coi': 375,\n",
              " 'cài': 376,\n",
              " 'xa': 377,\n",
              " 'êm': 378,\n",
              " 'ưng': 379,\n",
              " 'realme': 380,\n",
              " 'kính': 381,\n",
              " 'a70': 382,\n",
              " 'khách_hàng': 383,\n",
              " 'đa_nhiệm': 384,\n",
              " 'loạn': 385,\n",
              " 'cơ_bản': 386,\n",
              " 'nghĩ': 387,\n",
              " 'chuyển': 388,\n",
              " 'rất': 389,\n",
              " 'a51': 390,\n",
              " 'nút': 391,\n",
              " 'v': 392,\n",
              " 'chả': 393,\n",
              " 'tự_động': 394,\n",
              " 'viền': 395,\n",
              " 'ý': 396,\n",
              " '3g': 397,\n",
              " 'plus': 398,\n",
              " 'chíp': 399,\n",
              " 'hiển_thị': 400,\n",
              " 'khỏe': 401,\n",
              " '15': 402,\n",
              " 'nổi': 403,\n",
              " 'điện_máy': 404,\n",
              " 'sam': 405,\n",
              " 'mắt': 406,\n",
              " 'thoải_mái': 407,\n",
              " 'lq': 408,\n",
              " 'kêu': 409,\n",
              " 'toàn': 410,\n",
              " 'cửa_hàng': 411,\n",
              " 'chỗ': 412,\n",
              " 'ấm': 413,\n",
              " '30': 414,\n",
              " 'đầu_tiên': 415,\n",
              " 'thường': 416,\n",
              " 'hôm_nay': 417,\n",
              " 'fps': 418,\n",
              " 'phím': 419,\n",
              " 'xíu': 420,\n",
              " 'gặp': 421,\n",
              " 'h': 422,\n",
              " 'kia': 423,\n",
              " 'chỉnh': 424,\n",
              " 'chạm': 425,\n",
              " 'thì': 426,\n",
              " 'thân_thiện': 427,\n",
              " 'khoẻ': 428,\n",
              " 'cục': 429,\n",
              " 'bác': 430,\n",
              " 'dễ_thương': 431,\n",
              " 'ăn': 432,\n",
              " 'bây_giờ': 433,\n",
              " 'hợp_lý': 434,\n",
              " '5000': 435,\n",
              " 'được': 436,\n",
              " 'xin': 437,\n",
              " 'thi': 438,\n",
              " 'chữ': 439,\n",
              " 'bàn_phím': 440,\n",
              " 'chờ': 441,\n",
              " 'nhỉ': 442,\n",
              " 'riêng': 443,\n",
              " 'ưng_ý': 444,\n",
              " 'nhựa': 445,\n",
              " 'app': 446,\n",
              " 'thiếu': 447,\n",
              " 'chiều': 448,\n",
              " '11': 449,\n",
              " 'kiểm_tra': 450,\n",
              " 'may': 451,\n",
              " 'rung': 452,\n",
              " 'nửa': 453,\n",
              " 'thực': 454,\n",
              " 'thỉnh_thoảng': 455,\n",
              " 'đấy': 456,\n",
              " 'điện': 457,\n",
              " '12': 458,\n",
              " 'nokia': 459,\n",
              " 'trung_bình': 460,\n",
              " 'sung': 461,\n",
              " 'sai_lầm': 462,\n",
              " '9': 463,\n",
              " 'face': 464,\n",
              " 'tóm': 465,\n",
              " 'lo': 466,\n",
              " 'giúp': 467,\n",
              " 'google': 468,\n",
              " 'chịu': 469,\n",
              " 'thao_tác': 470,\n",
              " 'kinh_khủng': 471,\n",
              " 'treo': 472,\n",
              " 'ip': 473,\n",
              " 'gửi': 474,\n",
              " 'bộ_nhớ': 475,\n",
              " 'gọn': 476,\n",
              " 'chị': 477,\n",
              " 'huawei': 478,\n",
              " 'cài_đặt': 479,\n",
              " 'thoại': 480,\n",
              " 'xứng_đáng': 481,\n",
              " 'thay': 482,\n",
              " 'ng': 483,\n",
              " 'góc': 484,\n",
              " 'cắm': 485,\n",
              " 'loại': 486,\n",
              " 'tận_tình': 487,\n",
              " 'đối': 488,\n",
              " 'ms': 489,\n",
              " 's': 490,\n",
              " 'trận': 491,\n",
              " 'xạc': 492,\n",
              " 'thoát': 493,\n",
              " 'màu_sắc': 494,\n",
              " 'ad': 495,\n",
              " 'tự_nhiên': 496,\n",
              " 'cx': 497,\n",
              " 'chẳng': 498,\n",
              " 'hẳn': 499,\n",
              " 'lun': 500,\n",
              " 'ấy': 501,\n",
              " 'nước': 502,\n",
              " 'hợp': 503,\n",
              " 'minh': 504,\n",
              " 'mong_đợi': 505,\n",
              " 'củ': 506,\n",
              " 'chống': 507,\n",
              " 'rộng': 508,\n",
              " 'vàng': 509,\n",
              " 'nhược_điểm': 510,\n",
              " 'định': 511,\n",
              " 'chuẩn': 512,\n",
              " 'nhận_xét': 513,\n",
              " 'kèm': 514,\n",
              " 'sợ': 515,\n",
              " 'bao_giờ': 516,\n",
              " 'nhìu': 517,\n",
              " 'sớm': 518,\n",
              " 'bluetooth': 519,\n",
              " 'lồi': 520,\n",
              " 'làm_sao': 521,\n",
              " 'phát': 522,\n",
              " 'bt': 523,\n",
              " '4000': 524,\n",
              " 'à': 525,\n",
              " 'tiếp': 526,\n",
              " '23': 527,\n",
              " 'đợi': 528,\n",
              " 'kh': 529,\n",
              " 'sướng': 530,\n",
              " 'là': 531,\n",
              " 'túi_tiền': 532,\n",
              " 'call': 533,\n",
              " 'vạch': 534,\n",
              " 'thường_xuyên': 535,\n",
              " 'dung': 536,\n",
              " 'mỏng': 537,\n",
              " 'phân_giải': 538,\n",
              " 'hề': 539,\n",
              " 'anh': 540,\n",
              " 'ông': 541,\n",
              " 'bù': 542,\n",
              " 'tiết_kiệm': 543,\n",
              " 'trc': 544,\n",
              " 'a': 545,\n",
              " 'hoạt_động': 546,\n",
              " 'hành': 547,\n",
              " 'phí': 548,\n",
              " 'tốn': 549,\n",
              " 'khoá': 550,\n",
              " 'thương_hiệu': 551,\n",
              " 'cân_nhắc': 552,\n",
              " 'đánh': 553,\n",
              " 'nhiệt': 554,\n",
              " 'trắng': 555,\n",
              " 'bé': 556,\n",
              " 'cực_kỳ': 557,\n",
              " 'nhắn': 558,\n",
              " 'phẩm': 559,\n",
              " 'đặt': 560,\n",
              " 'tương_đối': 561,\n",
              " 'choi': 562,\n",
              " 'chi': 563,\n",
              " 'chập_chờn': 564,\n",
              " 'văng': 565,\n",
              " 'giá_cả': 566,\n",
              " 'phê': 567,\n",
              " 'lựa_chọn': 568,\n",
              " 'ios': 569,\n",
              " '9s': 570,\n",
              " 'lâu_dài': 571,\n",
              " 'hư': 572,\n",
              " 'lắc': 573,\n",
              " 'ấn': 574,\n",
              " 'ý_định': 575,\n",
              " 'nguyên': 576,\n",
              " 'kg': 577,\n",
              " 'galaxy': 578,\n",
              " 'đmx': 579,\n",
              " 'dk': 580,\n",
              " 'tâm': 581,\n",
              " 'trang': 582,\n",
              " 'hộp': 583,\n",
              " 'chs': 584,\n",
              " 'tốc_độ': 585,\n",
              " 'củng': 586,\n",
              " 'setting': 587,\n",
              " 'đồ_họa': 588,\n",
              " 'nản': 589,\n",
              " 'free': 590,\n",
              " 'tính': 591,\n",
              " 'chuông': 592,\n",
              " 'cường_lực': 593,\n",
              " 'trâu_bò': 594,\n",
              " 'rưỡi': 595,\n",
              " 'anh_em': 596,\n",
              " 'm': 597,\n",
              " 'nhắn_tin': 598,\n",
              " 'vỡ': 599,\n",
              " 'thu': 600,\n",
              " 'thái_độ': 601,\n",
              " 'shop': 602,\n",
              " 'rớt': 603,\n",
              " 'có': 604,\n",
              " 'hoài': 605,\n",
              " 'dmx': 606,\n",
              " 'cải_thiện': 607,\n",
              " 'cùi': 608,\n",
              " 'phản_hồi': 609,\n",
              " 'a71': 610,\n",
              " 'tối_ưu': 611,\n",
              " 'tận': 612,\n",
              " 'mãi': 613,\n",
              " 'fire': 614,\n",
              " 'sử': 615,\n",
              " 'reno': 616,\n",
              " 'ba': 617,\n",
              " 'lời': 618,\n",
              " 'giảm_giá': 619,\n",
              " 'hệ': 620,\n",
              " 'ngang': 621,\n",
              " 'yên_tâm': 622,\n",
              " 'ghê': 623,\n",
              " 'dành': 624,\n",
              " 'thui': 625,\n",
              " 'bộ': 626,\n",
              " 'trời': 627,\n",
              " 'đáp_ứng': 628,\n",
              " 'xử_lý': 629,\n",
              " 'bát': 630,\n",
              " 'yêu': 631,\n",
              " 'sản_xuất': 632,\n",
              " 'miui': 633,\n",
              " 'mik': 634,\n",
              " 'giao': 635,\n",
              " 'phiên_bản': 636,\n",
              " 'hoi': 637,\n",
              " 'sửa': 638,\n",
              " 'bảo_mật': 639,\n",
              " 'nâng_cấp': 640,\n",
              " 'ứng': 641,\n",
              " 'j7': 642,\n",
              " 'khủng': 643,\n",
              " 'chất': 644,\n",
              " 'đk': 645,\n",
              " 'giới_thiệu': 646,\n",
              " 'giao_diện': 647,\n",
              " 'ám': 648,\n",
              " 'tai': 649,\n",
              " 'thông_báo': 650,\n",
              " 'fan': 651,\n",
              " 'xoá': 652,\n",
              " 'trả_góp': 653,\n",
              " 'đời': 654,\n",
              " 'nhau': 655,\n",
              " 'trở': 656,\n",
              " 'mát': 657,\n",
              " 'mà': 658,\n",
              " 'nhìn_chung': 659,\n",
              " 'giải_trí': 660,\n",
              " 'gạo': 661,\n",
              " 'quay_phim': 662,\n",
              " 'a50s': 663,\n",
              " 'sánh': 664,\n",
              " 'một_số': 665,\n",
              " 'bực_mình': 666,\n",
              " 'ơi': 667,\n",
              " 'dịch_vụ': 668,\n",
              " 'dài': 669,\n",
              " 'thanh': 670,\n",
              " 'ưu_điểm': 671,\n",
              " 'hãy': 672,\n",
              " 'đắt': 673,\n",
              " 'sống': 674,\n",
              " 'quần': 675,\n",
              " 'mẹ': 676,\n",
              " 'khoản': 677,\n",
              " 'joy': 678,\n",
              " 'âm': 679,\n",
              " 'a50': 680,\n",
              " 'vuốt': 681,\n",
              " 'bình': 682,\n",
              " 'live': 683,\n",
              " 'ngon_lành': 684,\n",
              " 'moi': 685,\n",
              " 'với': 686,\n",
              " 'wed': 687,\n",
              " 'update': 688,\n",
              " 'good': 689,\n",
              " 'ban_đầu': 690,\n",
              " 'wf': 691,\n",
              " 'ngầm': 692,\n",
              " 'đường': 693,\n",
              " 'sụt': 694,\n",
              " 'cao_cấp': 695,\n",
              " 't': 696,\n",
              " 'nền': 697,\n",
              " 'lite': 698,\n",
              " 'đồng': 699,\n",
              " 'mobile': 700,\n",
              " 'lưu': 701,\n",
              " 'lỗ': 702,\n",
              " 'đỉnh': 703,\n",
              " 'lung_tung': 704,\n",
              " 'chủ_yếu': 705,\n",
              " 'đồ': 706,\n",
              " 'ntn': 707,\n",
              " 'bình_luận': 708,\n",
              " 'chai': 709,\n",
              " 'công': 710,\n",
              " 'cuối': 711,\n",
              " 'ý_kiến': 712,\n",
              " 'snap': 713,\n",
              " 'và': 714,\n",
              " 'online': 715,\n",
              " 'nhấn': 716,\n",
              " 'hoàn_hảo': 717,\n",
              " '50': 718,\n",
              " 'selfie': 719,\n",
              " 'tưởng': 720,\n",
              " 'cũng': 721,\n",
              " 'sập': 722,\n",
              " 'này': 723,\n",
              " 'wa': 724,\n",
              " 'ánh_sáng': 725,\n",
              " 'chấm': 726,\n",
              " 'kỹ': 727,\n",
              " 'xóa_phông': 728,\n",
              " 'mẫu_mã': 729,\n",
              " 'hở': 730,\n",
              " 'hk': 731,\n",
              " 'mic': 732,\n",
              " 'tìm': 733,\n",
              " 'nhập': 734,\n",
              " 'năng': 735,\n",
              " 'che': 736,\n",
              " 'trầy': 737,\n",
              " '8tr': 738,\n",
              " 'giữ': 739,\n",
              " 'vn': 740,\n",
              " 'out': 741,\n",
              " 'xịn': 742,\n",
              " '3tr': 743,\n",
              " 'rơi': 744,\n",
              " '40': 745,\n",
              " 'á': 746,\n",
              " 'miếng': 747,\n",
              " 'lác': 748,\n",
              " 'hỏng': 749,\n",
              " 'reset': 750,\n",
              " '7plus': 751,\n",
              " 'la': 752,\n",
              " 'thành': 753,\n",
              " 'ngón': 754,\n",
              " 'sac': 755,\n",
              " 'công_nghệ': 756,\n",
              " 'ức_chế': 757,\n",
              " '2h': 758,\n",
              " 'rút': 759,\n",
              " 'đập': 760,\n",
              " 'phụ': 761,\n",
              " 'kiểu_dáng': 762,\n",
              " 'vãi': 763,\n",
              " 'nhòe': 764,\n",
              " 'co': 765,\n",
              " 'bực': 766,\n",
              " '6tr': 767,\n",
              " 'apple': 768,\n",
              " 'chắc_chắn': 769,\n",
              " '4500': 770,\n",
              " 'thích_hợp': 771,\n",
              " 'đèn': 772,\n",
              " '60': 773,\n",
              " 'xước': 774,\n",
              " 'buổi': 775,\n",
              " 'xuất_sắc': 776,\n",
              " 'sản': 777,\n",
              " 'f11': 778,\n",
              " 'máy_ảnh': 779,\n",
              " 'tý': 780,\n",
              " 'ngoại_trừ': 781,\n",
              " 'trợ': 782,\n",
              " 'lý': 783,\n",
              " 'lẽ': 784,\n",
              " 'tiện': 785,\n",
              " 'hợp_lí': 786,\n",
              " 'kế': 787,\n",
              " 'nữ': 788,\n",
              " '5tr': 789,\n",
              " 'y': 790,\n",
              " 'nhân': 791,\n",
              " 'khuyến_mãi': 792,\n",
              " 'kép': 793,\n",
              " 'lại': 794,\n",
              " 'biến': 795,\n",
              " 'chục': 796,\n",
              " 'load': 797,\n",
              " '80': 798,\n",
              " 'tăng': 799,\n",
              " 'thông_số': 800,\n",
              " 'vọng': 801,\n",
              " 'âm_lượng': 802,\n",
              " 'bổ': 803,\n",
              " 'quyết_định': 804,\n",
              " 'tư': 805,\n",
              " 'vui': 806,\n",
              " '1h': 807,\n",
              " 'thi_thoảng': 808,\n",
              " 'nhạt': 809,\n",
              " 'cạnh': 810,\n",
              " 'hoàn_thiện': 811,\n",
              " '4tr': 812,\n",
              " 'anh_chị': 813,\n",
              " 'đợt': 814,\n",
              " 'chi_tiết': 815,\n",
              " 'việt_nam': 816,\n",
              " 'ngắt': 817,\n",
              " '45': 818,\n",
              " 'bất_tiện': 819,\n",
              " 'nhưg': 820,\n",
              " 'sạt': 821,\n",
              " 'mess': 822,\n",
              " 'thẻ_nhớ': 823,\n",
              " 'phàn_nàn': 824,\n",
              " 'nhung': 825,\n",
              " 'phụ_kiện': 826,\n",
              " 'đưa': 827,\n",
              " 'lổi': 828,\n",
              " 'ảnh_hưởng': 829,\n",
              " 'trưa': 830,\n",
              " 'quà': 831,\n",
              " 'quen': 832,\n",
              " 'họ': 833,\n",
              " 'dự_phòng': 834,\n",
              " 'snapdragon': 835,\n",
              " 'tiếp_tục': 836,\n",
              " 'lòng': 837,\n",
              " 'khung': 838,\n",
              " 'giây': 839,\n",
              " 'tết': 840,\n",
              " 'ma': 841,\n",
              " 'nắm': 842,\n",
              " 'duy_nhất': 843,\n",
              " 'rùi': 844,\n",
              " 'tiết': 845,\n",
              " 'ghi_âm': 846,\n",
              " '4h': 847,\n",
              " 'ns': 848,\n",
              " 'xinh': 849,\n",
              " 'khiến': 850,\n",
              " 'fix': 851,\n",
              " 'kĩ': 852,\n",
              " 'noi': 853,\n",
              " 'dính': 854,\n",
              " 'một_chút': 855,\n",
              " 'lai': 856,\n",
              " 'khựng': 857,\n",
              " 'hộ': 858,\n",
              " 'suy_nghĩ': 859,\n",
              " 'ch': 860,\n",
              " 'khách': 861,\n",
              " 'nhậy': 862,\n",
              " 'chăm_sóc': 863,\n",
              " 'messenger': 864,\n",
              " 'bắt_đầu': 865,\n",
              " 'nge': 866,\n",
              " 'hướng_dẫn': 867,\n",
              " 'kể_cả': 868,\n",
              " 'tùy': 869,\n",
              " 'đeo': 870,\n",
              " 'amoled': 871,\n",
              " 'kết': 872,\n",
              " 'androi': 873,\n",
              " '34': 874,\n",
              " 'xuất_hiện': 875,\n",
              " 'của': 876,\n",
              " 'ngoại_hình': 877,\n",
              " 'câu': 878,\n",
              " 'phải': 879,\n",
              " 'bị': 880,\n",
              " 'cỡ': 881,\n",
              " 'va': 882,\n",
              " 'bắp': 883,\n",
              " 'liên': 884,\n",
              " 'cung': 885,\n",
              " 'đã': 886,\n",
              " 'bữa': 887,\n",
              " 'z': 888,\n",
              " 'khả_năng': 889,\n",
              " 'tr': 890,\n",
              " 'cận': 891,\n",
              " 's20': 892,\n",
              " 'tấm': 893,\n",
              " 'thời': 894,\n",
              " 'xoay': 895,\n",
              " '5s': 896,\n",
              " 'rồi': 897,\n",
              " 'đầy_đủ': 898,\n",
              " 'bóng': 899,\n",
              " 'not': 900,\n",
              " 'bài': 901,\n",
              " 'đổi_mới': 902,\n",
              " 'mạnh_mẽ': 903,\n",
              " 'okpin': 904,\n",
              " 'hệ_thống': 905,\n",
              " 'quản_lý': 906,\n",
              " 'dày': 907,\n",
              " 'nt': 908,\n",
              " 'đẹp_mắt': 909,\n",
              " 'a9': 910,\n",
              " 'tất': 911,\n",
              " 'rom': 912,\n",
              " 'ta': 913,\n",
              " 'giải_quyết': 914,\n",
              " 'mah': 915,\n",
              " 'hy_vọng': 916,\n",
              " 'mượn': 917,\n",
              " '98': 918,\n",
              " 'quan_trọng': 919,\n",
              " 'xứng': 920,\n",
              " 'd': 921,\n",
              " 'ấn_tượng': 922,\n",
              " 'quốc': 923,\n",
              " 'tên': 924,\n",
              " 'đỡ': 925,\n",
              " 'play': 926,\n",
              " 'tự_dưng': 927,\n",
              " 'vos': 928,\n",
              " 'gõ': 929,\n",
              " 'vỏ': 930,\n",
              " 'đáng_giá': 931,\n",
              " 'bao_nhiêu': 932,\n",
              " 'thay_đổi': 933,\n",
              " 'chup': 934,\n",
              " 'lượng': 935,\n",
              " 'ghi': 936,\n",
              " '13': 937,\n",
              " 'quả': 938,\n",
              " 'chân': 939,\n",
              " 'khen': 940,\n",
              " 'dám': 941,\n",
              " 'lúc': 942,\n",
              " 'y19': 943,\n",
              " 'lỡ': 944,\n",
              " 'cân': 945,\n",
              " 'vẻ': 946,\n",
              " 'văn': 947,\n",
              " 'trãi': 948,\n",
              " 'gái': 949,\n",
              " 'bắn': 950,\n",
              " 'ban_đêm': 951,\n",
              " 'phần_cứng': 952,\n",
              " 'rõ_ràng': 953,\n",
              " 'tùm_lum': 954,\n",
              " '99': 955,\n",
              " 'cá_nhân': 956,\n",
              " 'zoom': 957,\n",
              " 'dây': 958,\n",
              " 'cũg': 959,\n",
              " '2f': 960,\n",
              " 'dữ_liệu': 961,\n",
              " 'vặt': 962,\n",
              " 'hướng': 963,\n",
              " 'thegioididong': 964,\n",
              " 'châu': 965,\n",
              " 'tin_tưởng': 966,\n",
              " 'gây': 967,\n",
              " 'trả_lời': 968,\n",
              " 'túi': 969,\n",
              " 'giá_thành': 970,\n",
              " 'gb': 971,\n",
              " 'quét': 972,\n",
              " 'thất': 973,\n",
              " 'bắt_mắt': 974,\n",
              " 'thiết': 975,\n",
              " 'phía': 976,\n",
              " 'cái': 977,\n",
              " 'vá': 978,\n",
              " 'mẫu': 979,\n",
              " 'hài': 980,\n",
              " '2tr': 981,\n",
              " 'vv': 982,\n",
              " 'phát_hiện': 983,\n",
              " 'chương_trình': 984,\n",
              " 'suốt': 985,\n",
              " 'c': 986,\n",
              " 'mh': 987,\n",
              " 'thông_thường': 988,\n",
              " 'of': 989,\n",
              " 'came': 990,\n",
              " 'phone': 991,\n",
              " 'liền': 992,\n",
              " 'đông': 993,\n",
              " '67': 994,\n",
              " 'vin': 995,\n",
              " 'dấu_hiệu': 996,\n",
              " 'cám_ơn': 997,\n",
              " 'a10s': 998,\n",
              " 'active': 999,\n",
              " ...}"
            ]
          },
          "execution_count": 11,
          "metadata": {},
          "output_type": "execute_result"
        }
      ],
      "source": [
        "model_embedding.key_to_index"
      ]
    },
    {
      "cell_type": "markdown",
      "metadata": {},
      "source": [
        "> Check to see how many words the longest sentence has"
      ]
    },
    {
      "cell_type": "code",
      "execution_count": 12,
      "metadata": {},
      "outputs": [
        {
          "name": "stdout",
          "output_type": "stream",
          "text": [
            "129\n",
            "131\n"
          ]
        }
      ],
      "source": [
        "max_sequence = max([len(seq) for seq in X_train])\n",
        "max_sequence_t=max ([len(seq) for seq in X_test ])\n",
        "print(max_sequence)\n",
        "print(max_sequence_t)"
      ]
    },
    {
      "cell_type": "markdown",
      "metadata": {},
      "source": [
        "> representation for unknown words"
      ]
    },
    {
      "cell_type": "code",
      "execution_count": 13,
      "metadata": {},
      "outputs": [],
      "source": [
        "embedding_size = 128"
      ]
    },
    {
      "cell_type": "markdown",
      "metadata": {},
      "source": [
        "> convert words to vector space and padding"
      ]
    },
    {
      "cell_type": "code",
      "execution_count": 14,
      "metadata": {
        "id": "IQ2nqk0mG-PX"
      },
      "outputs": [],
      "source": [
        "def comment_embedding(comment):\n",
        "    matrix = np.zeros((131, embedding_size))\n",
        "    for i, word in enumerate(comment):\n",
        "            if word in model_embedding:\n",
        "                matrix[i] = model_embedding.get_vector(word)\n",
        "    return matrix"
      ]
    },
    {
      "cell_type": "markdown",
      "metadata": {},
      "source": [
        "> Execute Function"
      ]
    },
    {
      "cell_type": "code",
      "execution_count": 15,
      "metadata": {
        "colab": {
          "base_uri": "https://localhost:8080/"
        },
        "id": "iQMg25GTJS3m",
        "outputId": "1926c3a6-fc37-4dc1-97b3-044604276def"
      },
      "outputs": [
        {
          "name": "stderr",
          "output_type": "stream",
          "text": [
            "100%|██████████| 7786/7786 [00:01<00:00, 6825.01it/s] \n",
            "100%|██████████| 2224/2224 [00:00<00:00, 5859.15it/s]\n"
          ]
        }
      ],
      "source": [
        "train_data = []\n",
        "test_data =[]\n",
        "for x in tqdm(X_train):\n",
        "    train_data.append(comment_embedding(x))\n",
        "for y in tqdm(X_test): \n",
        "    test_data.append(comment_embedding(y))\n",
        "test_data=np.array(test_data)\n",
        "train_data=np.array(train_data)"
      ]
    },
    {
      "cell_type": "markdown",
      "metadata": {},
      "source": [
        "> Convert labels to numbers"
      ]
    },
    {
      "cell_type": "code",
      "execution_count": 16,
      "metadata": {},
      "outputs": [
        {
          "name": "stdout",
          "output_type": "stream",
          "text": [
            "[1 0 1]\n"
          ]
        }
      ],
      "source": [
        "label_encoder = LabelEncoder()\n",
        "# Mã hóa các nhãn văn bản thành các giá trị số\n",
        "y_train_encoded = label_encoder.fit_transform(y_train)\n",
        "y_test_encoded=label_encoder.fit_transform(y_test)\n",
        "print(y_train_encoded[0:3])"
      ]
    },
    {
      "cell_type": "markdown",
      "metadata": {},
      "source": [
        "> Convert label to one_hot_vector"
      ]
    },
    {
      "cell_type": "code",
      "execution_count": 17,
      "metadata": {},
      "outputs": [
        {
          "name": "stdout",
          "output_type": "stream",
          "text": [
            "[[0. 1. 0.]\n",
            " [1. 0. 0.]\n",
            " [0. 1. 0.]]\n"
          ]
        }
      ],
      "source": [
        "# Biểu diễn nhãn dưới dạng one-hot vector\n",
        "y_train_onehot = to_categorical(y_train_encoded)\n",
        "print(y_train_onehot[0:3])"
      ]
    },
    {
      "cell_type": "markdown",
      "metadata": {},
      "source": [
        "## 3.Built Model CNN"
      ]
    },
    {
      "cell_type": "markdown",
      "metadata": {},
      "source": [
        "### 3.1. Design configuration for CNN network"
      ]
    },
    {
      "cell_type": "code",
      "execution_count": 18,
      "metadata": {
        "id": "w33Kk46jJlJ5"
      },
      "outputs": [],
      "source": [
        "num_classes = 3\n",
        "filter_sizes = 3\n",
        "num_filters = 150\n",
        "epochs = 74\n",
        "dropout_rate = 0.3\n",
        "embedding_size=128"
      ]
    },
    {
      "cell_type": "markdown",
      "metadata": {},
      "source": [
        "> transform input properties"
      ]
    },
    {
      "cell_type": "code",
      "execution_count": 19,
      "metadata": {},
      "outputs": [],
      "source": [
        "x_train = train_data.reshape(train_data.shape[0], 131, embedding_size, 1).astype('float32')"
      ]
    },
    {
      "cell_type": "markdown",
      "metadata": {},
      "source": [
        "### 3.2. Model CNN"
      ]
    },
    {
      "cell_type": "code",
      "execution_count": 20,
      "metadata": {
        "colab": {
          "base_uri": "https://localhost:8080/"
        },
        "id": "UMrY5kBaypR4",
        "outputId": "5baf567d-6802-461b-e484-fe48d9eabff0"
      },
      "outputs": [
        {
          "name": "stderr",
          "output_type": "stream",
          "text": [
            "c:\\Users\\hdang\\.virtualenvs\\DM-xmUrTfoX\\Lib\\site-packages\\keras\\src\\layers\\convolutional\\base_conv.py:99: UserWarning: Do not pass an `input_shape`/`input_dim` argument to a layer. When using Sequential models, prefer using an `Input(shape)` object as the first layer in the model instead.\n",
            "  super().__init__(\n"
          ]
        }
      ],
      "source": [
        "# Define the model\n",
        "model = Sequential()\n",
        "# Add a convolutional layer\n",
        "model.add(Conv2D(num_filters, (filter_sizes, embedding_size), activation='relu',\n",
        "                 input_shape=(131, embedding_size, 1),name='convolution_layer'))\n",
        "model.add(MaxPooling2D(pool_size=(2, 1),strides=(2, 1),name='max_pooling'))\n",
        "model.add(Dropout(dropout_rate))\n",
        "model.add(Flatten())\n",
        "model.add(Dense(9, activation='relu',name='layer_dense_1'))\n",
        "model.add(Dense(9, activation='relu',name='layer_dense_2'))\n",
        "model.add(Dense(9, activation='relu',name='layer_dense_3'))\n",
        "model.add(Dense(9, activation='relu',name='layer_dense_4'))\n",
        "model.add(Dense(9, activation='relu',name='layer_dense_5'))\n",
        "model.add(Dense(9, activation='relu',name='layer_dense_6'))\n",
        "model.add(Dense(9, activation='relu',name='layer_dense_7'))\n",
        "model.add(Dense(9, activation='relu',name='layer_dense_8'))\n",
        "model.add(Dense(3, activation='softmax'))"
      ]
    },
    {
      "cell_type": "markdown",
      "metadata": {},
      "source": [
        "### 3.3. Hyperparameter"
      ]
    },
    {
      "cell_type": "code",
      "execution_count": 21,
      "metadata": {},
      "outputs": [],
      "source": [
        "model.compile(loss='categorical_crossentropy',\n",
        "              optimizer='adam',\n",
        "              metrics=['accuracy'])"
      ]
    },
    {
      "cell_type": "markdown",
      "metadata": {},
      "source": [
        "### 3.4. Train"
      ]
    },
    {
      "cell_type": "markdown",
      "metadata": {},
      "source": [
        "> Monitor the trainning process to stop earlier"
      ]
    },
    {
      "cell_type": "code",
      "execution_count": 22,
      "metadata": {},
      "outputs": [],
      "source": [
        "# Khởi tạo callback EarlyStopping\n",
        "early_stopping_callback = EarlyStopping(\n",
        "    monitor='loss', \n",
        "    patience=20,          \n",
        "    restore_best_weights=True  \n",
        ")"
      ]
    },
    {
      "cell_type": "code",
      "execution_count": 23,
      "metadata": {
        "colab": {
          "base_uri": "https://localhost:8080/"
        },
        "id": "U1bK-7TFy-4t",
        "outputId": "d0e0aca6-b0af-4e73-af7c-88f8b8b5186a"
      },
      "outputs": [
        {
          "name": "stdout",
          "output_type": "stream",
          "text": [
            "Epoch 1/74\n",
            "\u001b[1m244/244\u001b[0m \u001b[32m━━━━━━━━━━━━━━━━━━━━\u001b[0m\u001b[37m\u001b[0m \u001b[1m7s\u001b[0m 12ms/step - accuracy: 0.6128 - loss: 0.8660\n",
            "Epoch 2/74\n",
            "\u001b[1m244/244\u001b[0m \u001b[32m━━━━━━━━━━━━━━━━━━━━\u001b[0m\u001b[37m\u001b[0m \u001b[1m3s\u001b[0m 12ms/step - accuracy: 0.7871 - loss: 0.5639\n",
            "Epoch 3/74\n",
            "\u001b[1m244/244\u001b[0m \u001b[32m━━━━━━━━━━━━━━━━━━━━\u001b[0m\u001b[37m\u001b[0m \u001b[1m3s\u001b[0m 11ms/step - accuracy: 0.8077 - loss: 0.5083\n",
            "Epoch 4/74\n",
            "\u001b[1m244/244\u001b[0m \u001b[32m━━━━━━━━━━━━━━━━━━━━\u001b[0m\u001b[37m\u001b[0m \u001b[1m3s\u001b[0m 12ms/step - accuracy: 0.8033 - loss: 0.5093\n",
            "Epoch 5/74\n",
            "\u001b[1m244/244\u001b[0m \u001b[32m━━━━━━━━━━━━━━━━━━━━\u001b[0m\u001b[37m\u001b[0m \u001b[1m3s\u001b[0m 12ms/step - accuracy: 0.8105 - loss: 0.4917\n",
            "Epoch 6/74\n",
            "\u001b[1m244/244\u001b[0m \u001b[32m━━━━━━━━━━━━━━━━━━━━\u001b[0m\u001b[37m\u001b[0m \u001b[1m3s\u001b[0m 12ms/step - accuracy: 0.8233 - loss: 0.4590\n",
            "Epoch 7/74\n",
            "\u001b[1m244/244\u001b[0m \u001b[32m━━━━━━━━━━━━━━━━━━━━\u001b[0m\u001b[37m\u001b[0m \u001b[1m3s\u001b[0m 11ms/step - accuracy: 0.8225 - loss: 0.4544\n",
            "Epoch 8/74\n",
            "\u001b[1m244/244\u001b[0m \u001b[32m━━━━━━━━━━━━━━━━━━━━\u001b[0m\u001b[37m\u001b[0m \u001b[1m3s\u001b[0m 11ms/step - accuracy: 0.8397 - loss: 0.4142\n",
            "Epoch 9/74\n",
            "\u001b[1m244/244\u001b[0m \u001b[32m━━━━━━━━━━━━━━━━━━━━\u001b[0m\u001b[37m\u001b[0m \u001b[1m3s\u001b[0m 13ms/step - accuracy: 0.8343 - loss: 0.4313\n",
            "Epoch 10/74\n",
            "\u001b[1m244/244\u001b[0m \u001b[32m━━━━━━━━━━━━━━━━━━━━\u001b[0m\u001b[37m\u001b[0m \u001b[1m3s\u001b[0m 14ms/step - accuracy: 0.8390 - loss: 0.3963\n",
            "Epoch 11/74\n",
            "\u001b[1m244/244\u001b[0m \u001b[32m━━━━━━━━━━━━━━━━━━━━\u001b[0m\u001b[37m\u001b[0m \u001b[1m3s\u001b[0m 12ms/step - accuracy: 0.8426 - loss: 0.3887\n",
            "Epoch 12/74\n",
            "\u001b[1m244/244\u001b[0m \u001b[32m━━━━━━━━━━━━━━━━━━━━\u001b[0m\u001b[37m\u001b[0m \u001b[1m3s\u001b[0m 13ms/step - accuracy: 0.8417 - loss: 0.3768\n",
            "Epoch 13/74\n",
            "\u001b[1m244/244\u001b[0m \u001b[32m━━━━━━━━━━━━━━━━━━━━\u001b[0m\u001b[37m\u001b[0m \u001b[1m3s\u001b[0m 12ms/step - accuracy: 0.8432 - loss: 0.3726\n",
            "Epoch 14/74\n",
            "\u001b[1m244/244\u001b[0m \u001b[32m━━━━━━━━━━━━━━━━━━━━\u001b[0m\u001b[37m\u001b[0m \u001b[1m3s\u001b[0m 12ms/step - accuracy: 0.8579 - loss: 0.3460\n",
            "Epoch 15/74\n",
            "\u001b[1m244/244\u001b[0m \u001b[32m━━━━━━━━━━━━━━━━━━━━\u001b[0m\u001b[37m\u001b[0m \u001b[1m3s\u001b[0m 12ms/step - accuracy: 0.8617 - loss: 0.3445\n",
            "Epoch 16/74\n",
            "\u001b[1m244/244\u001b[0m \u001b[32m━━━━━━━━━━━━━━━━━━━━\u001b[0m\u001b[37m\u001b[0m \u001b[1m3s\u001b[0m 12ms/step - accuracy: 0.8678 - loss: 0.3311\n",
            "Epoch 17/74\n",
            "\u001b[1m244/244\u001b[0m \u001b[32m━━━━━━━━━━━━━━━━━━━━\u001b[0m\u001b[37m\u001b[0m \u001b[1m3s\u001b[0m 12ms/step - accuracy: 0.8744 - loss: 0.3108\n",
            "Epoch 18/74\n",
            "\u001b[1m244/244\u001b[0m \u001b[32m━━━━━━━━━━━━━━━━━━━━\u001b[0m\u001b[37m\u001b[0m \u001b[1m3s\u001b[0m 12ms/step - accuracy: 0.8754 - loss: 0.3152\n",
            "Epoch 19/74\n",
            "\u001b[1m244/244\u001b[0m \u001b[32m━━━━━━━━━━━━━━━━━━━━\u001b[0m\u001b[37m\u001b[0m \u001b[1m3s\u001b[0m 12ms/step - accuracy: 0.8797 - loss: 0.2973\n",
            "Epoch 20/74\n",
            "\u001b[1m244/244\u001b[0m \u001b[32m━━━━━━━━━━━━━━━━━━━━\u001b[0m\u001b[37m\u001b[0m \u001b[1m3s\u001b[0m 12ms/step - accuracy: 0.8822 - loss: 0.2914\n",
            "Epoch 21/74\n",
            "\u001b[1m244/244\u001b[0m \u001b[32m━━━━━━━━━━━━━━━━━━━━\u001b[0m\u001b[37m\u001b[0m \u001b[1m3s\u001b[0m 12ms/step - accuracy: 0.8890 - loss: 0.2796\n",
            "Epoch 22/74\n",
            "\u001b[1m244/244\u001b[0m \u001b[32m━━━━━━━━━━━━━━━━━━━━\u001b[0m\u001b[37m\u001b[0m \u001b[1m3s\u001b[0m 11ms/step - accuracy: 0.8916 - loss: 0.2774\n",
            "Epoch 23/74\n",
            "\u001b[1m244/244\u001b[0m \u001b[32m━━━━━━━━━━━━━━━━━━━━\u001b[0m\u001b[37m\u001b[0m \u001b[1m3s\u001b[0m 12ms/step - accuracy: 0.8919 - loss: 0.2730\n",
            "Epoch 24/74\n",
            "\u001b[1m244/244\u001b[0m \u001b[32m━━━━━━━━━━━━━━━━━━━━\u001b[0m\u001b[37m\u001b[0m \u001b[1m3s\u001b[0m 11ms/step - accuracy: 0.8988 - loss: 0.2579\n",
            "Epoch 25/74\n",
            "\u001b[1m244/244\u001b[0m \u001b[32m━━━━━━━━━━━━━━━━━━━━\u001b[0m\u001b[37m\u001b[0m \u001b[1m3s\u001b[0m 12ms/step - accuracy: 0.9073 - loss: 0.2432\n",
            "Epoch 26/74\n",
            "\u001b[1m244/244\u001b[0m \u001b[32m━━━━━━━━━━━━━━━━━━━━\u001b[0m\u001b[37m\u001b[0m \u001b[1m3s\u001b[0m 12ms/step - accuracy: 0.8969 - loss: 0.2508\n",
            "Epoch 27/74\n",
            "\u001b[1m244/244\u001b[0m \u001b[32m━━━━━━━━━━━━━━━━━━━━\u001b[0m\u001b[37m\u001b[0m \u001b[1m3s\u001b[0m 12ms/step - accuracy: 0.9020 - loss: 0.2406\n",
            "Epoch 28/74\n",
            "\u001b[1m244/244\u001b[0m \u001b[32m━━━━━━━━━━━━━━━━━━━━\u001b[0m\u001b[37m\u001b[0m \u001b[1m3s\u001b[0m 12ms/step - accuracy: 0.9132 - loss: 0.2259\n",
            "Epoch 29/74\n",
            "\u001b[1m244/244\u001b[0m \u001b[32m━━━━━━━━━━━━━━━━━━━━\u001b[0m\u001b[37m\u001b[0m \u001b[1m3s\u001b[0m 11ms/step - accuracy: 0.9150 - loss: 0.2292\n",
            "Epoch 30/74\n",
            "\u001b[1m244/244\u001b[0m \u001b[32m━━━━━━━━━━━━━━━━━━━━\u001b[0m\u001b[37m\u001b[0m \u001b[1m3s\u001b[0m 12ms/step - accuracy: 0.9167 - loss: 0.2192\n",
            "Epoch 31/74\n",
            "\u001b[1m244/244\u001b[0m \u001b[32m━━━━━━━━━━━━━━━━━━━━\u001b[0m\u001b[37m\u001b[0m \u001b[1m3s\u001b[0m 12ms/step - accuracy: 0.9200 - loss: 0.2052\n",
            "Epoch 32/74\n",
            "\u001b[1m244/244\u001b[0m \u001b[32m━━━━━━━━━━━━━━━━━━━━\u001b[0m\u001b[37m\u001b[0m \u001b[1m3s\u001b[0m 12ms/step - accuracy: 0.9134 - loss: 0.2202\n",
            "Epoch 33/74\n",
            "\u001b[1m244/244\u001b[0m \u001b[32m━━━━━━━━━━━━━━━━━━━━\u001b[0m\u001b[37m\u001b[0m \u001b[1m3s\u001b[0m 12ms/step - accuracy: 0.9258 - loss: 0.1975\n",
            "Epoch 34/74\n",
            "\u001b[1m244/244\u001b[0m \u001b[32m━━━━━━━━━━━━━━━━━━━━\u001b[0m\u001b[37m\u001b[0m \u001b[1m3s\u001b[0m 13ms/step - accuracy: 0.9301 - loss: 0.1925\n",
            "Epoch 35/74\n",
            "\u001b[1m244/244\u001b[0m \u001b[32m━━━━━━━━━━━━━━━━━━━━\u001b[0m\u001b[37m\u001b[0m \u001b[1m3s\u001b[0m 11ms/step - accuracy: 0.9318 - loss: 0.1880\n",
            "Epoch 36/74\n",
            "\u001b[1m244/244\u001b[0m \u001b[32m━━━━━━━━━━━━━━━━━━━━\u001b[0m\u001b[37m\u001b[0m \u001b[1m3s\u001b[0m 11ms/step - accuracy: 0.9301 - loss: 0.1858\n",
            "Epoch 37/74\n",
            "\u001b[1m244/244\u001b[0m \u001b[32m━━━━━━━━━━━━━━━━━━━━\u001b[0m\u001b[37m\u001b[0m \u001b[1m3s\u001b[0m 10ms/step - accuracy: 0.9362 - loss: 0.1801\n",
            "Epoch 38/74\n",
            "\u001b[1m244/244\u001b[0m \u001b[32m━━━━━━━━━━━━━━━━━━━━\u001b[0m\u001b[37m\u001b[0m \u001b[1m3s\u001b[0m 10ms/step - accuracy: 0.9352 - loss: 0.1747\n",
            "Epoch 39/74\n",
            "\u001b[1m244/244\u001b[0m \u001b[32m━━━━━━━━━━━━━━━━━━━━\u001b[0m\u001b[37m\u001b[0m \u001b[1m3s\u001b[0m 10ms/step - accuracy: 0.9318 - loss: 0.1859\n",
            "Epoch 40/74\n",
            "\u001b[1m244/244\u001b[0m \u001b[32m━━━━━━━━━━━━━━━━━━━━\u001b[0m\u001b[37m\u001b[0m \u001b[1m2s\u001b[0m 10ms/step - accuracy: 0.9348 - loss: 0.1750\n",
            "Epoch 41/74\n",
            "\u001b[1m244/244\u001b[0m \u001b[32m━━━━━━━━━━━━━━━━━━━━\u001b[0m\u001b[37m\u001b[0m \u001b[1m3s\u001b[0m 10ms/step - accuracy: 0.9413 - loss: 0.1676\n",
            "Epoch 42/74\n",
            "\u001b[1m244/244\u001b[0m \u001b[32m━━━━━━━━━━━━━━━━━━━━\u001b[0m\u001b[37m\u001b[0m \u001b[1m3s\u001b[0m 10ms/step - accuracy: 0.9339 - loss: 0.1669\n",
            "Epoch 43/74\n",
            "\u001b[1m244/244\u001b[0m \u001b[32m━━━━━━━━━━━━━━━━━━━━\u001b[0m\u001b[37m\u001b[0m \u001b[1m2s\u001b[0m 10ms/step - accuracy: 0.9405 - loss: 0.1641\n",
            "Epoch 44/74\n",
            "\u001b[1m244/244\u001b[0m \u001b[32m━━━━━━━━━━━━━━━━━━━━\u001b[0m\u001b[37m\u001b[0m \u001b[1m2s\u001b[0m 10ms/step - accuracy: 0.9422 - loss: 0.1622\n",
            "Epoch 45/74\n",
            "\u001b[1m244/244\u001b[0m \u001b[32m━━━━━━━━━━━━━━━━━━━━\u001b[0m\u001b[37m\u001b[0m \u001b[1m3s\u001b[0m 10ms/step - accuracy: 0.9413 - loss: 0.1579\n",
            "Epoch 46/74\n",
            "\u001b[1m244/244\u001b[0m \u001b[32m━━━━━━━━━━━━━━━━━━━━\u001b[0m\u001b[37m\u001b[0m \u001b[1m2s\u001b[0m 10ms/step - accuracy: 0.9419 - loss: 0.1541\n",
            "Epoch 47/74\n",
            "\u001b[1m244/244\u001b[0m \u001b[32m━━━━━━━━━━━━━━━━━━━━\u001b[0m\u001b[37m\u001b[0m \u001b[1m2s\u001b[0m 10ms/step - accuracy: 0.9491 - loss: 0.1418\n",
            "Epoch 48/74\n",
            "\u001b[1m244/244\u001b[0m \u001b[32m━━━━━━━━━━━━━━━━━━━━\u001b[0m\u001b[37m\u001b[0m \u001b[1m3s\u001b[0m 10ms/step - accuracy: 0.9408 - loss: 0.1567\n",
            "Epoch 49/74\n",
            "\u001b[1m244/244\u001b[0m \u001b[32m━━━━━━━━━━━━━━━━━━━━\u001b[0m\u001b[37m\u001b[0m \u001b[1m2s\u001b[0m 10ms/step - accuracy: 0.9527 - loss: 0.1377\n",
            "Epoch 50/74\n",
            "\u001b[1m244/244\u001b[0m \u001b[32m━━━━━━━━━━━━━━━━━━━━\u001b[0m\u001b[37m\u001b[0m \u001b[1m2s\u001b[0m 10ms/step - accuracy: 0.9447 - loss: 0.1549\n",
            "Epoch 51/74\n",
            "\u001b[1m244/244\u001b[0m \u001b[32m━━━━━━━━━━━━━━━━━━━━\u001b[0m\u001b[37m\u001b[0m \u001b[1m3s\u001b[0m 10ms/step - accuracy: 0.9419 - loss: 0.1609\n",
            "Epoch 52/74\n",
            "\u001b[1m244/244\u001b[0m \u001b[32m━━━━━━━━━━━━━━━━━━━━\u001b[0m\u001b[37m\u001b[0m \u001b[1m2s\u001b[0m 10ms/step - accuracy: 0.9520 - loss: 0.1442\n",
            "Epoch 53/74\n",
            "\u001b[1m244/244\u001b[0m \u001b[32m━━━━━━━━━━━━━━━━━━━━\u001b[0m\u001b[37m\u001b[0m \u001b[1m3s\u001b[0m 11ms/step - accuracy: 0.9521 - loss: 0.1357\n",
            "Epoch 54/74\n",
            "\u001b[1m244/244\u001b[0m \u001b[32m━━━━━━━━━━━━━━━━━━━━\u001b[0m\u001b[37m\u001b[0m \u001b[1m3s\u001b[0m 12ms/step - accuracy: 0.9545 - loss: 0.1262\n",
            "Epoch 55/74\n",
            "\u001b[1m244/244\u001b[0m \u001b[32m━━━━━━━━━━━━━━━━━━━━\u001b[0m\u001b[37m\u001b[0m \u001b[1m3s\u001b[0m 11ms/step - accuracy: 0.9571 - loss: 0.1277\n",
            "Epoch 56/74\n",
            "\u001b[1m244/244\u001b[0m \u001b[32m━━━━━━━━━━━━━━━━━━━━\u001b[0m\u001b[37m\u001b[0m \u001b[1m3s\u001b[0m 11ms/step - accuracy: 0.9556 - loss: 0.1299\n",
            "Epoch 57/74\n",
            "\u001b[1m244/244\u001b[0m \u001b[32m━━━━━━━━━━━━━━━━━━━━\u001b[0m\u001b[37m\u001b[0m \u001b[1m2s\u001b[0m 10ms/step - accuracy: 0.9650 - loss: 0.1093\n",
            "Epoch 58/74\n",
            "\u001b[1m244/244\u001b[0m \u001b[32m━━━━━━━━━━━━━━━━━━━━\u001b[0m\u001b[37m\u001b[0m \u001b[1m2s\u001b[0m 10ms/step - accuracy: 0.9535 - loss: 0.1305\n",
            "Epoch 59/74\n",
            "\u001b[1m244/244\u001b[0m \u001b[32m━━━━━━━━━━━━━━━━━━━━\u001b[0m\u001b[37m\u001b[0m \u001b[1m3s\u001b[0m 10ms/step - accuracy: 0.9598 - loss: 0.1234\n",
            "Epoch 60/74\n",
            "\u001b[1m244/244\u001b[0m \u001b[32m━━━━━━━━━━━━━━━━━━━━\u001b[0m\u001b[37m\u001b[0m \u001b[1m2s\u001b[0m 10ms/step - accuracy: 0.9599 - loss: 0.1193\n",
            "Epoch 61/74\n",
            "\u001b[1m244/244\u001b[0m \u001b[32m━━━━━━━━━━━━━━━━━━━━\u001b[0m\u001b[37m\u001b[0m \u001b[1m3s\u001b[0m 11ms/step - accuracy: 0.9541 - loss: 0.1300\n",
            "Epoch 62/74\n",
            "\u001b[1m244/244\u001b[0m \u001b[32m━━━━━━━━━━━━━━━━━━━━\u001b[0m\u001b[37m\u001b[0m \u001b[1m4s\u001b[0m 15ms/step - accuracy: 0.9606 - loss: 0.1144\n",
            "Epoch 63/74\n",
            "\u001b[1m244/244\u001b[0m \u001b[32m━━━━━━━━━━━━━━━━━━━━\u001b[0m\u001b[37m\u001b[0m \u001b[1m3s\u001b[0m 14ms/step - accuracy: 0.9567 - loss: 0.1184\n",
            "Epoch 64/74\n",
            "\u001b[1m244/244\u001b[0m \u001b[32m━━━━━━━━━━━━━━━━━━━━\u001b[0m\u001b[37m\u001b[0m \u001b[1m3s\u001b[0m 13ms/step - accuracy: 0.9591 - loss: 0.1212\n",
            "Epoch 65/74\n",
            "\u001b[1m244/244\u001b[0m \u001b[32m━━━━━━━━━━━━━━━━━━━━\u001b[0m\u001b[37m\u001b[0m \u001b[1m3s\u001b[0m 11ms/step - accuracy: 0.9621 - loss: 0.1146\n",
            "Epoch 66/74\n",
            "\u001b[1m244/244\u001b[0m \u001b[32m━━━━━━━━━━━━━━━━━━━━\u001b[0m\u001b[37m\u001b[0m \u001b[1m3s\u001b[0m 11ms/step - accuracy: 0.9637 - loss: 0.1006\n",
            "Epoch 67/74\n",
            "\u001b[1m244/244\u001b[0m \u001b[32m━━━━━━━━━━━━━━━━━━━━\u001b[0m\u001b[37m\u001b[0m \u001b[1m3s\u001b[0m 11ms/step - accuracy: 0.9628 - loss: 0.1075\n",
            "Epoch 68/74\n",
            "\u001b[1m244/244\u001b[0m \u001b[32m━━━━━━━━━━━━━━━━━━━━\u001b[0m\u001b[37m\u001b[0m \u001b[1m3s\u001b[0m 12ms/step - accuracy: 0.9628 - loss: 0.1093\n",
            "Epoch 69/74\n",
            "\u001b[1m244/244\u001b[0m \u001b[32m━━━━━━━━━━━━━━━━━━━━\u001b[0m\u001b[37m\u001b[0m \u001b[1m3s\u001b[0m 11ms/step - accuracy: 0.9639 - loss: 0.1074\n",
            "Epoch 70/74\n",
            "\u001b[1m244/244\u001b[0m \u001b[32m━━━━━━━━━━━━━━━━━━━━\u001b[0m\u001b[37m\u001b[0m \u001b[1m3s\u001b[0m 11ms/step - accuracy: 0.9605 - loss: 0.1180\n",
            "Epoch 71/74\n",
            "\u001b[1m244/244\u001b[0m \u001b[32m━━━━━━━━━━━━━━━━━━━━\u001b[0m\u001b[37m\u001b[0m \u001b[1m3s\u001b[0m 11ms/step - accuracy: 0.9643 - loss: 0.1015\n",
            "Epoch 72/74\n",
            "\u001b[1m244/244\u001b[0m \u001b[32m━━━━━━━━━━━━━━━━━━━━\u001b[0m\u001b[37m\u001b[0m \u001b[1m3s\u001b[0m 12ms/step - accuracy: 0.9664 - loss: 0.0971\n",
            "Epoch 73/74\n",
            "\u001b[1m244/244\u001b[0m \u001b[32m━━━━━━━━━━━━━━━━━━━━\u001b[0m\u001b[37m\u001b[0m \u001b[1m3s\u001b[0m 10ms/step - accuracy: 0.9652 - loss: 0.0995\n",
            "Epoch 74/74\n",
            "\u001b[1m244/244\u001b[0m \u001b[32m━━━━━━━━━━━━━━━━━━━━\u001b[0m\u001b[37m\u001b[0m \u001b[1m3s\u001b[0m 10ms/step - accuracy: 0.9612 - loss: 0.1114\n"
          ]
        },
        {
          "data": {
            "text/plain": [
              "<keras.src.callbacks.history.History at 0x25a0a510c90>"
            ]
          },
          "execution_count": 23,
          "metadata": {},
          "output_type": "execute_result"
        }
      ],
      "source": [
        "model.fit(\n",
        "    x_train,\n",
        "    y_train_onehot,\n",
        "    verbose=1,\n",
        "    epochs=epochs,\n",
        "    callbacks=[early_stopping_callback] \n",
        ")"
      ]
    },
    {
      "cell_type": "markdown",
      "metadata": {},
      "source": [
        ">Network Architecture"
      ]
    },
    {
      "cell_type": "code",
      "execution_count": 24,
      "metadata": {},
      "outputs": [
        {
          "data": {
            "text/html": [
              "<pre style=\"white-space:pre;overflow-x:auto;line-height:normal;font-family:Menlo,'DejaVu Sans Mono',consolas,'Courier New',monospace\"><span style=\"font-weight: bold\">Model: \"sequential\"</span>\n",
              "</pre>\n"
            ],
            "text/plain": [
              "\u001b[1mModel: \"sequential\"\u001b[0m\n"
            ]
          },
          "metadata": {},
          "output_type": "display_data"
        },
        {
          "data": {
            "text/html": [
              "<pre style=\"white-space:pre;overflow-x:auto;line-height:normal;font-family:Menlo,'DejaVu Sans Mono',consolas,'Courier New',monospace\">┏━━━━━━━━━━━━━━━━━━━━━━━━━━━━━━━━━┳━━━━━━━━━━━━━━━━━━━━━━━━┳━━━━━━━━━━━━━━━┓\n",
              "┃<span style=\"font-weight: bold\"> Layer (type)                    </span>┃<span style=\"font-weight: bold\"> Output Shape           </span>┃<span style=\"font-weight: bold\">       Param # </span>┃\n",
              "┡━━━━━━━━━━━━━━━━━━━━━━━━━━━━━━━━━╇━━━━━━━━━━━━━━━━━━━━━━━━╇━━━━━━━━━━━━━━━┩\n",
              "│ convolution_layer (<span style=\"color: #0087ff; text-decoration-color: #0087ff\">Conv2D</span>)      │ (<span style=\"color: #00d7ff; text-decoration-color: #00d7ff\">None</span>, <span style=\"color: #00af00; text-decoration-color: #00af00\">129</span>, <span style=\"color: #00af00; text-decoration-color: #00af00\">1</span>, <span style=\"color: #00af00; text-decoration-color: #00af00\">150</span>)    │        <span style=\"color: #00af00; text-decoration-color: #00af00\">57,750</span> │\n",
              "├─────────────────────────────────┼────────────────────────┼───────────────┤\n",
              "│ max_pooling (<span style=\"color: #0087ff; text-decoration-color: #0087ff\">MaxPooling2D</span>)      │ (<span style=\"color: #00d7ff; text-decoration-color: #00d7ff\">None</span>, <span style=\"color: #00af00; text-decoration-color: #00af00\">64</span>, <span style=\"color: #00af00; text-decoration-color: #00af00\">1</span>, <span style=\"color: #00af00; text-decoration-color: #00af00\">150</span>)     │             <span style=\"color: #00af00; text-decoration-color: #00af00\">0</span> │\n",
              "├─────────────────────────────────┼────────────────────────┼───────────────┤\n",
              "│ dropout (<span style=\"color: #0087ff; text-decoration-color: #0087ff\">Dropout</span>)               │ (<span style=\"color: #00d7ff; text-decoration-color: #00d7ff\">None</span>, <span style=\"color: #00af00; text-decoration-color: #00af00\">64</span>, <span style=\"color: #00af00; text-decoration-color: #00af00\">1</span>, <span style=\"color: #00af00; text-decoration-color: #00af00\">150</span>)     │             <span style=\"color: #00af00; text-decoration-color: #00af00\">0</span> │\n",
              "├─────────────────────────────────┼────────────────────────┼───────────────┤\n",
              "│ flatten (<span style=\"color: #0087ff; text-decoration-color: #0087ff\">Flatten</span>)               │ (<span style=\"color: #00d7ff; text-decoration-color: #00d7ff\">None</span>, <span style=\"color: #00af00; text-decoration-color: #00af00\">9600</span>)           │             <span style=\"color: #00af00; text-decoration-color: #00af00\">0</span> │\n",
              "├─────────────────────────────────┼────────────────────────┼───────────────┤\n",
              "│ layer_dense_1 (<span style=\"color: #0087ff; text-decoration-color: #0087ff\">Dense</span>)           │ (<span style=\"color: #00d7ff; text-decoration-color: #00d7ff\">None</span>, <span style=\"color: #00af00; text-decoration-color: #00af00\">9</span>)              │        <span style=\"color: #00af00; text-decoration-color: #00af00\">86,409</span> │\n",
              "├─────────────────────────────────┼────────────────────────┼───────────────┤\n",
              "│ layer_dense_2 (<span style=\"color: #0087ff; text-decoration-color: #0087ff\">Dense</span>)           │ (<span style=\"color: #00d7ff; text-decoration-color: #00d7ff\">None</span>, <span style=\"color: #00af00; text-decoration-color: #00af00\">9</span>)              │            <span style=\"color: #00af00; text-decoration-color: #00af00\">90</span> │\n",
              "├─────────────────────────────────┼────────────────────────┼───────────────┤\n",
              "│ layer_dense_3 (<span style=\"color: #0087ff; text-decoration-color: #0087ff\">Dense</span>)           │ (<span style=\"color: #00d7ff; text-decoration-color: #00d7ff\">None</span>, <span style=\"color: #00af00; text-decoration-color: #00af00\">9</span>)              │            <span style=\"color: #00af00; text-decoration-color: #00af00\">90</span> │\n",
              "├─────────────────────────────────┼────────────────────────┼───────────────┤\n",
              "│ layer_dense_4 (<span style=\"color: #0087ff; text-decoration-color: #0087ff\">Dense</span>)           │ (<span style=\"color: #00d7ff; text-decoration-color: #00d7ff\">None</span>, <span style=\"color: #00af00; text-decoration-color: #00af00\">9</span>)              │            <span style=\"color: #00af00; text-decoration-color: #00af00\">90</span> │\n",
              "├─────────────────────────────────┼────────────────────────┼───────────────┤\n",
              "│ layer_dense_5 (<span style=\"color: #0087ff; text-decoration-color: #0087ff\">Dense</span>)           │ (<span style=\"color: #00d7ff; text-decoration-color: #00d7ff\">None</span>, <span style=\"color: #00af00; text-decoration-color: #00af00\">9</span>)              │            <span style=\"color: #00af00; text-decoration-color: #00af00\">90</span> │\n",
              "├─────────────────────────────────┼────────────────────────┼───────────────┤\n",
              "│ layer_dense_6 (<span style=\"color: #0087ff; text-decoration-color: #0087ff\">Dense</span>)           │ (<span style=\"color: #00d7ff; text-decoration-color: #00d7ff\">None</span>, <span style=\"color: #00af00; text-decoration-color: #00af00\">9</span>)              │            <span style=\"color: #00af00; text-decoration-color: #00af00\">90</span> │\n",
              "├─────────────────────────────────┼────────────────────────┼───────────────┤\n",
              "│ layer_dense_7 (<span style=\"color: #0087ff; text-decoration-color: #0087ff\">Dense</span>)           │ (<span style=\"color: #00d7ff; text-decoration-color: #00d7ff\">None</span>, <span style=\"color: #00af00; text-decoration-color: #00af00\">9</span>)              │            <span style=\"color: #00af00; text-decoration-color: #00af00\">90</span> │\n",
              "├─────────────────────────────────┼────────────────────────┼───────────────┤\n",
              "│ layer_dense_8 (<span style=\"color: #0087ff; text-decoration-color: #0087ff\">Dense</span>)           │ (<span style=\"color: #00d7ff; text-decoration-color: #00d7ff\">None</span>, <span style=\"color: #00af00; text-decoration-color: #00af00\">9</span>)              │            <span style=\"color: #00af00; text-decoration-color: #00af00\">90</span> │\n",
              "├─────────────────────────────────┼────────────────────────┼───────────────┤\n",
              "│ dense (<span style=\"color: #0087ff; text-decoration-color: #0087ff\">Dense</span>)                   │ (<span style=\"color: #00d7ff; text-decoration-color: #00d7ff\">None</span>, <span style=\"color: #00af00; text-decoration-color: #00af00\">3</span>)              │            <span style=\"color: #00af00; text-decoration-color: #00af00\">30</span> │\n",
              "└─────────────────────────────────┴────────────────────────┴───────────────┘\n",
              "</pre>\n"
            ],
            "text/plain": [
              "┏━━━━━━━━━━━━━━━━━━━━━━━━━━━━━━━━━┳━━━━━━━━━━━━━━━━━━━━━━━━┳━━━━━━━━━━━━━━━┓\n",
              "┃\u001b[1m \u001b[0m\u001b[1mLayer (type)                   \u001b[0m\u001b[1m \u001b[0m┃\u001b[1m \u001b[0m\u001b[1mOutput Shape          \u001b[0m\u001b[1m \u001b[0m┃\u001b[1m \u001b[0m\u001b[1m      Param #\u001b[0m\u001b[1m \u001b[0m┃\n",
              "┡━━━━━━━━━━━━━━━━━━━━━━━━━━━━━━━━━╇━━━━━━━━━━━━━━━━━━━━━━━━╇━━━━━━━━━━━━━━━┩\n",
              "│ convolution_layer (\u001b[38;5;33mConv2D\u001b[0m)      │ (\u001b[38;5;45mNone\u001b[0m, \u001b[38;5;34m129\u001b[0m, \u001b[38;5;34m1\u001b[0m, \u001b[38;5;34m150\u001b[0m)    │        \u001b[38;5;34m57,750\u001b[0m │\n",
              "├─────────────────────────────────┼────────────────────────┼───────────────┤\n",
              "│ max_pooling (\u001b[38;5;33mMaxPooling2D\u001b[0m)      │ (\u001b[38;5;45mNone\u001b[0m, \u001b[38;5;34m64\u001b[0m, \u001b[38;5;34m1\u001b[0m, \u001b[38;5;34m150\u001b[0m)     │             \u001b[38;5;34m0\u001b[0m │\n",
              "├─────────────────────────────────┼────────────────────────┼───────────────┤\n",
              "│ dropout (\u001b[38;5;33mDropout\u001b[0m)               │ (\u001b[38;5;45mNone\u001b[0m, \u001b[38;5;34m64\u001b[0m, \u001b[38;5;34m1\u001b[0m, \u001b[38;5;34m150\u001b[0m)     │             \u001b[38;5;34m0\u001b[0m │\n",
              "├─────────────────────────────────┼────────────────────────┼───────────────┤\n",
              "│ flatten (\u001b[38;5;33mFlatten\u001b[0m)               │ (\u001b[38;5;45mNone\u001b[0m, \u001b[38;5;34m9600\u001b[0m)           │             \u001b[38;5;34m0\u001b[0m │\n",
              "├─────────────────────────────────┼────────────────────────┼───────────────┤\n",
              "│ layer_dense_1 (\u001b[38;5;33mDense\u001b[0m)           │ (\u001b[38;5;45mNone\u001b[0m, \u001b[38;5;34m9\u001b[0m)              │        \u001b[38;5;34m86,409\u001b[0m │\n",
              "├─────────────────────────────────┼────────────────────────┼───────────────┤\n",
              "│ layer_dense_2 (\u001b[38;5;33mDense\u001b[0m)           │ (\u001b[38;5;45mNone\u001b[0m, \u001b[38;5;34m9\u001b[0m)              │            \u001b[38;5;34m90\u001b[0m │\n",
              "├─────────────────────────────────┼────────────────────────┼───────────────┤\n",
              "│ layer_dense_3 (\u001b[38;5;33mDense\u001b[0m)           │ (\u001b[38;5;45mNone\u001b[0m, \u001b[38;5;34m9\u001b[0m)              │            \u001b[38;5;34m90\u001b[0m │\n",
              "├─────────────────────────────────┼────────────────────────┼───────────────┤\n",
              "│ layer_dense_4 (\u001b[38;5;33mDense\u001b[0m)           │ (\u001b[38;5;45mNone\u001b[0m, \u001b[38;5;34m9\u001b[0m)              │            \u001b[38;5;34m90\u001b[0m │\n",
              "├─────────────────────────────────┼────────────────────────┼───────────────┤\n",
              "│ layer_dense_5 (\u001b[38;5;33mDense\u001b[0m)           │ (\u001b[38;5;45mNone\u001b[0m, \u001b[38;5;34m9\u001b[0m)              │            \u001b[38;5;34m90\u001b[0m │\n",
              "├─────────────────────────────────┼────────────────────────┼───────────────┤\n",
              "│ layer_dense_6 (\u001b[38;5;33mDense\u001b[0m)           │ (\u001b[38;5;45mNone\u001b[0m, \u001b[38;5;34m9\u001b[0m)              │            \u001b[38;5;34m90\u001b[0m │\n",
              "├─────────────────────────────────┼────────────────────────┼───────────────┤\n",
              "│ layer_dense_7 (\u001b[38;5;33mDense\u001b[0m)           │ (\u001b[38;5;45mNone\u001b[0m, \u001b[38;5;34m9\u001b[0m)              │            \u001b[38;5;34m90\u001b[0m │\n",
              "├─────────────────────────────────┼────────────────────────┼───────────────┤\n",
              "│ layer_dense_8 (\u001b[38;5;33mDense\u001b[0m)           │ (\u001b[38;5;45mNone\u001b[0m, \u001b[38;5;34m9\u001b[0m)              │            \u001b[38;5;34m90\u001b[0m │\n",
              "├─────────────────────────────────┼────────────────────────┼───────────────┤\n",
              "│ dense (\u001b[38;5;33mDense\u001b[0m)                   │ (\u001b[38;5;45mNone\u001b[0m, \u001b[38;5;34m3\u001b[0m)              │            \u001b[38;5;34m30\u001b[0m │\n",
              "└─────────────────────────────────┴────────────────────────┴───────────────┘\n"
            ]
          },
          "metadata": {},
          "output_type": "display_data"
        },
        {
          "data": {
            "text/html": [
              "<pre style=\"white-space:pre;overflow-x:auto;line-height:normal;font-family:Menlo,'DejaVu Sans Mono',consolas,'Courier New',monospace\"><span style=\"font-weight: bold\"> Total params: </span><span style=\"color: #00af00; text-decoration-color: #00af00\">434,459</span> (1.66 MB)\n",
              "</pre>\n"
            ],
            "text/plain": [
              "\u001b[1m Total params: \u001b[0m\u001b[38;5;34m434,459\u001b[0m (1.66 MB)\n"
            ]
          },
          "metadata": {},
          "output_type": "display_data"
        },
        {
          "data": {
            "text/html": [
              "<pre style=\"white-space:pre;overflow-x:auto;line-height:normal;font-family:Menlo,'DejaVu Sans Mono',consolas,'Courier New',monospace\"><span style=\"font-weight: bold\"> Trainable params: </span><span style=\"color: #00af00; text-decoration-color: #00af00\">144,819</span> (565.70 KB)\n",
              "</pre>\n"
            ],
            "text/plain": [
              "\u001b[1m Trainable params: \u001b[0m\u001b[38;5;34m144,819\u001b[0m (565.70 KB)\n"
            ]
          },
          "metadata": {},
          "output_type": "display_data"
        },
        {
          "data": {
            "text/html": [
              "<pre style=\"white-space:pre;overflow-x:auto;line-height:normal;font-family:Menlo,'DejaVu Sans Mono',consolas,'Courier New',monospace\"><span style=\"font-weight: bold\"> Non-trainable params: </span><span style=\"color: #00af00; text-decoration-color: #00af00\">0</span> (0.00 B)\n",
              "</pre>\n"
            ],
            "text/plain": [
              "\u001b[1m Non-trainable params: \u001b[0m\u001b[38;5;34m0\u001b[0m (0.00 B)\n"
            ]
          },
          "metadata": {},
          "output_type": "display_data"
        },
        {
          "data": {
            "text/html": [
              "<pre style=\"white-space:pre;overflow-x:auto;line-height:normal;font-family:Menlo,'DejaVu Sans Mono',consolas,'Courier New',monospace\"><span style=\"font-weight: bold\"> Optimizer params: </span><span style=\"color: #00af00; text-decoration-color: #00af00\">289,640</span> (1.10 MB)\n",
              "</pre>\n"
            ],
            "text/plain": [
              "\u001b[1m Optimizer params: \u001b[0m\u001b[38;5;34m289,640\u001b[0m (1.10 MB)\n"
            ]
          },
          "metadata": {},
          "output_type": "display_data"
        },
        {
          "name": "stdout",
          "output_type": "stream",
          "text": [
            "None\n"
          ]
        }
      ],
      "source": [
        "print(model.summary())"
      ]
    },
    {
      "cell_type": "markdown",
      "metadata": {},
      "source": [
        "> Network Architecture Diagram"
      ]
    },
    {
      "cell_type": "code",
      "execution_count": 25,
      "metadata": {},
      "outputs": [
        {
          "data": {
            "image/png": "[encoded data removed]",
            "text/plain": [
              "<IPython.core.display.Image object>"
            ]
          },
          "execution_count": 25,
          "metadata": {},
          "output_type": "execute_result"
        }
      ],
      "source": [
        "plot_model(model, to_file='../Picture_Model/model_CNN_sentiment_plot.png', show_shapes=True, show_layer_names=True)"
      ]
    },
    {
      "cell_type": "markdown",
      "metadata": {},
      "source": [
        "> Dump file model_cnn_sentiment.h5"
      ]
    },
    {
      "cell_type": "code",
      "execution_count": 26,
      "metadata": {
        "id": "x0OBJ7E5zh6K"
      },
      "outputs": [
        {
          "name": "stderr",
          "output_type": "stream",
          "text": [
            "WARNING:absl:You are saving your model as an HDF5 file via `model.save()` or `keras.saving.save_model(model)`. This file format is considered legacy. We recommend using instead the native Keras format, e.g. `model.save('my_model.keras')` or `keras.saving.save_model(model, 'my_model.keras')`. \n"
          ]
        }
      ],
      "source": [
        "model.save('../model/model_cnn_sentiment.h5')"
      ]
    },
    {
      "cell_type": "markdown",
      "metadata": {},
      "source": [
        "### 3.5 Evaluation test dataset"
      ]
    },
    {
      "cell_type": "markdown",
      "metadata": {},
      "source": [
        "> Load file models_sentiment.h5"
      ]
    },
    {
      "cell_type": "code",
      "execution_count": 27,
      "metadata": {},
      "outputs": [
        {
          "name": "stderr",
          "output_type": "stream",
          "text": [
            "WARNING:absl:Compiled the loaded model, but the compiled metrics have yet to be built. `model.compile_metrics` will be empty until you train or evaluate the model.\n"
          ]
        }
      ],
      "source": [
        "model_sentiment=load_model(\"../model/model_cnn_sentiment.h5\")"
      ]
    },
    {
      "cell_type": "markdown",
      "metadata": {},
      "source": [
        "> predict  test dataset "
      ]
    },
    {
      "cell_type": "code",
      "execution_count": 28,
      "metadata": {},
      "outputs": [
        {
          "name": "stdout",
          "output_type": "stream",
          "text": [
            "\u001b[1m70/70\u001b[0m \u001b[32m━━━━━━━━━━━━━━━━━━━━\u001b[0m\u001b[37m\u001b[0m \u001b[1m0s\u001b[0m 5ms/step\n"
          ]
        }
      ],
      "source": [
        "result = model_sentiment.predict(test_data)"
      ]
    },
    {
      "cell_type": "markdown",
      "metadata": {},
      "source": [
        "> First 10 lines of comments"
      ]
    },
    {
      "cell_type": "code",
      "execution_count": 29,
      "metadata": {},
      "outputs": [
        {
          "name": "stdout",
          "output_type": "stream",
          "text": [
            "[2 2 2 0 1 0 2 2 2 2]\n",
            "['Positive' 'Positive' 'Positive' 'Negative' 'Neutral' 'Negative'\n",
            " 'Positive' 'Positive' 'Positive' 'Positive']\n"
          ]
        }
      ],
      "source": [
        "predict_labels = np.argmax(result,axis=1)\n",
        "print(predict_labels[0:10])\n",
        "# Decode the predicted labels\n",
        "predicted_labels_decoded = label_encoder.inverse_transform(predict_labels)\n",
        "print(predicted_labels_decoded[0:10])\n"
      ]
    },
    {
      "cell_type": "markdown",
      "metadata": {},
      "source": [
        "> Data Preprocessing sample"
      ]
    },
    {
      "cell_type": "code",
      "execution_count": 30,
      "metadata": {},
      "outputs": [],
      "source": [
        "def Preprocessing(comment):\n",
        "    comment = remove_punctuation(comment.lower())\n",
        "    comment = remove_stopword(comment)\n",
        "    comment = [ViTokenizer.tokenize(comment)]\n",
        "    comment = wordseparation(comment)\n",
        "    comment =np.expand_dims(comment_embedding(comment[0]),axis=0)\n",
        "    return comment"
      ]
    },
    {
      "cell_type": "markdown",
      "metadata": {},
      "source": [
        "> Predict one a new sample"
      ]
    },
    {
      "cell_type": "code",
      "execution_count": 31,
      "metadata": {},
      "outputs": [
        {
          "name": "stdout",
          "output_type": "stream",
          "text": [
            "\u001b[1m1/1\u001b[0m \u001b[32m━━━━━━━━━━━━━━━━━━━━\u001b[0m\u001b[37m\u001b[0m \u001b[1m0s\u001b[0m 30ms/step\n",
            "['Positive']\n"
          ]
        }
      ],
      "source": [
        "comment = \"Tôi mới mua iphone 15 pro max pin trâu màn hình đẹp dễ sử dụng\"\n",
        "comment_preprocessed=Preprocessing(comment)\n",
        "result_one = model_sentiment.predict(comment_preprocessed)\n",
        "result_one = np.argmax(result_one,axis=1)\n",
        "# Decode the predicted labels\n",
        "print(label_encoder.inverse_transform(result_one))\n"
      ]
    },
    {
      "cell_type": "markdown",
      "metadata": {},
      "source": [
        "> Evaluate the model through Accuracy measures,Precision,Recall,F1-score,"
      ]
    },
    {
      "cell_type": "code",
      "execution_count": 32,
      "metadata": {},
      "outputs": [
        {
          "name": "stdout",
          "output_type": "stream",
          "text": [
            "Accuracy: 0.8094\n",
            "Precision: 0.7978\n",
            "Recall: 0.8094\n",
            "F1-score: 0.802825976080549\n"
          ]
        }
      ],
      "source": [
        "accuracy = accuracy_score(y_test_encoded, predict_labels)\n",
        "print(f'Accuracy: {accuracy:.4f}')\n",
        "\n",
        "precision = precision_score(y_test_encoded, predict_labels, average='weighted')\n",
        "print(f\"Precision: {precision:.4f}\")\n",
        "\n",
        "recall = recall_score(y_test_encoded, predict_labels, average='weighted')\n",
        "print(f\"Recall: {recall:.4f}\")\n",
        "\n",
        "f1score = f1_score(y_test_encoded, predict_labels, average='weighted')\n",
        "print(f\"F1-score: {f1score}\")"
      ]
    }
  ],
  "metadata": {
    "accelerator": "GPU",
    "colab": {
      "gpuType": "T4",
      "provenance": []
    },
    "kernelspec": {
      "display_name": "Python 3",
      "name": "python3"
    },
    "language_info": {
      "codemirror_mode": {
        "name": "ipython",
        "version": 3
      },
      "file_extension": ".py",
      "mimetype": "text/x-python",
      "name": "python",
      "nbconvert_exporter": "python",
      "pygments_lexer": "ipython3",
      "version": "3.11.5"
    }
  },
  "nbformat": 4,
  "nbformat_minor": 0
}
