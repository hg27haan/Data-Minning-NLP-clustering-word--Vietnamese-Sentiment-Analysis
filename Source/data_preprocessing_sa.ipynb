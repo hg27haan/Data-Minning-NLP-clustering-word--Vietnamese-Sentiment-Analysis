{
  "cells": [
    {
      "cell_type": "markdown",
      "metadata": {},
      "source": [
        "## 1.Import Library"
      ]
    },
    {
      "cell_type": "code",
      "execution_count": 50,
      "metadata": {
        "id": "5YNra4C2-L0X"
      },
      "outputs": [],
      "source": [
        "import pandas as pd\n",
        "import string\n",
        "import re\n",
        "from pyvi import ViTokenizer"
      ]
    },
    {
      "cell_type": "markdown",
      "metadata": {},
      "source": [
        "## 2.Explore Data Analysis"
      ]
    },
    {
      "cell_type": "code",
      "execution_count": 51,
      "metadata": {
        "id": "DGTzCtUy-dVx"
      },
      "outputs": [],
      "source": [
        "df_train = pd.read_csv('../data/data_origin/Trainfull.csv')\n",
        "df_test=pd.read_csv('../data/data_origin/Test.csv')"
      ]
    },
    {
      "cell_type": "code",
      "execution_count": 52,
      "metadata": {},
      "outputs": [
        {
          "data": {
            "text/plain": [
              "Index(['index', 'comment', 'n_star', 'date_time', 'label'], dtype='object')"
            ]
          },
          "execution_count": 52,
          "metadata": {},
          "output_type": "execute_result"
        }
      ],
      "source": [
        "df_train.columns"
      ]
    },
    {
      "cell_type": "code",
      "execution_count": 53,
      "metadata": {},
      "outputs": [
        {
          "data": {
            "text/html": [
              "<div>\n",
              "<style scoped>\n",
              "    .dataframe tbody tr th:only-of-type {\n",
              "        vertical-align: middle;\n",
              "    }\n",
              "\n",
              "    .dataframe tbody tr th {\n",
              "        vertical-align: top;\n",
              "    }\n",
              "\n",
              "    .dataframe thead th {\n",
              "        text-align: right;\n",
              "    }\n",
              "</style>\n",
              "<table border=\"1\" class=\"dataframe\">\n",
              "  <thead>\n",
              "    <tr style=\"text-align: right;\">\n",
              "      <th></th>\n",
              "      <th>index</th>\n",
              "      <th>comment</th>\n",
              "      <th>n_star</th>\n",
              "      <th>date_time</th>\n",
              "      <th>label</th>\n",
              "    </tr>\n",
              "  </thead>\n",
              "  <tbody>\n",
              "    <tr>\n",
              "      <th>0</th>\n",
              "      <td>0</td>\n",
              "      <td>Mới mua máy này Tại thegioididong thốt nốt cảm...</td>\n",
              "      <td>5</td>\n",
              "      <td>2 tuần trước</td>\n",
              "      <td>{CAMERA#Positive};{FEATURES#Positive};{BATTERY...</td>\n",
              "    </tr>\n",
              "    <tr>\n",
              "      <th>1</th>\n",
              "      <td>1</td>\n",
              "      <td>Pin kém còn lại miễn chê mua 8/3/2019 tình trạ...</td>\n",
              "      <td>5</td>\n",
              "      <td>14/09/2019</td>\n",
              "      <td>{BATTERY#Negative};{GENERAL#Positive};{OTHERS};</td>\n",
              "    </tr>\n",
              "    <tr>\n",
              "      <th>2</th>\n",
              "      <td>2</td>\n",
              "      <td>Sao lúc gọi điện thoại màn hình bị chấm nhỏ nh...</td>\n",
              "      <td>3</td>\n",
              "      <td>17/08/2020</td>\n",
              "      <td>{FEATURES#Negative};</td>\n",
              "    </tr>\n",
              "    <tr>\n",
              "      <th>3</th>\n",
              "      <td>3</td>\n",
              "      <td>Mọi người cập nhật phần mềm lại , nó sẽ bớt tố...</td>\n",
              "      <td>3</td>\n",
              "      <td>29/02/2020</td>\n",
              "      <td>{FEATURES#Negative};{BATTERY#Neutral};{GENERAL...</td>\n",
              "    </tr>\n",
              "    <tr>\n",
              "      <th>4</th>\n",
              "      <td>4</td>\n",
              "      <td>Mới mua Sài được 1 tháng thấy pin rất trâu, Sà...</td>\n",
              "      <td>5</td>\n",
              "      <td>4/6/2020</td>\n",
              "      <td>{BATTERY#Positive};{PERFORMANCE#Positive};{SER...</td>\n",
              "    </tr>\n",
              "  </tbody>\n",
              "</table>\n",
              "</div>"
            ],
            "text/plain": [
              "   index                                            comment  n_star  \\\n",
              "0      0  Mới mua máy này Tại thegioididong thốt nốt cảm...       5   \n",
              "1      1  Pin kém còn lại miễn chê mua 8/3/2019 tình trạ...       5   \n",
              "2      2  Sao lúc gọi điện thoại màn hình bị chấm nhỏ nh...       3   \n",
              "3      3  Mọi người cập nhật phần mềm lại , nó sẽ bớt tố...       3   \n",
              "4      4  Mới mua Sài được 1 tháng thấy pin rất trâu, Sà...       5   \n",
              "\n",
              "      date_time                                              label  \n",
              "0  2 tuần trước  {CAMERA#Positive};{FEATURES#Positive};{BATTERY...  \n",
              "1    14/09/2019    {BATTERY#Negative};{GENERAL#Positive};{OTHERS};  \n",
              "2    17/08/2020                               {FEATURES#Negative};  \n",
              "3    29/02/2020  {FEATURES#Negative};{BATTERY#Neutral};{GENERAL...  \n",
              "4      4/6/2020  {BATTERY#Positive};{PERFORMANCE#Positive};{SER...  "
            ]
          },
          "execution_count": 53,
          "metadata": {},
          "output_type": "execute_result"
        }
      ],
      "source": [
        "df_train.head(5)"
      ]
    },
    {
      "cell_type": "code",
      "execution_count": 54,
      "metadata": {},
      "outputs": [
        {
          "data": {
            "text/plain": [
              "(8898, 5)"
            ]
          },
          "execution_count": 54,
          "metadata": {},
          "output_type": "execute_result"
        }
      ],
      "source": [
        "df_train.shape"
      ]
    },
    {
      "cell_type": "markdown",
      "metadata": {},
      "source": [
        "### 2.1.Overview of phone dataset"
      ]
    },
    {
      "cell_type": "markdown",
      "metadata": {},
      "source": [
        "> The dataset consists of 11,122 comments, including of four features: \n",
        "\n",
        ">comment: Commentary content.\n",
        " n_star: The user evaluates the smartphone's star.\n",
        "\n",
        ">data_time: The date and time the comment was posted.\n",
        "\n",
        ">label: Label of comment.\n",
        "\n",
        ">All samples are in text format. No tokenization has been applied. Users of this dataset are free to use whatever sentence representation they choose."
      ]
    },
    {
      "cell_type": "markdown",
      "metadata": {},
      "source": [
        "### 2.2 Structure of dataset"
      ]
    },
    {
      "cell_type": "code",
      "execution_count": 55,
      "metadata": {},
      "outputs": [
        {
          "name": "stdout",
          "output_type": "stream",
          "text": [
            "<class 'pandas.core.frame.DataFrame'>\n",
            "RangeIndex: 8898 entries, 0 to 8897\n",
            "Data columns (total 5 columns):\n",
            " #   Column     Non-Null Count  Dtype \n",
            "---  ------     --------------  ----- \n",
            " 0   index      8898 non-null   int64 \n",
            " 1   comment    8898 non-null   object\n",
            " 2   n_star     8898 non-null   int64 \n",
            " 3   date_time  8898 non-null   object\n",
            " 4   label      8898 non-null   object\n",
            "dtypes: int64(2), object(3)\n",
            "memory usage: 347.7+ KB\n"
          ]
        }
      ],
      "source": [
        "df_train.info()"
      ]
    },
    {
      "cell_type": "markdown",
      "metadata": {},
      "source": [
        "### 2.3 Summary of statistic"
      ]
    },
    {
      "cell_type": "code",
      "execution_count": 56,
      "metadata": {},
      "outputs": [
        {
          "data": {
            "text/html": [
              "<div>\n",
              "<style scoped>\n",
              "    .dataframe tbody tr th:only-of-type {\n",
              "        vertical-align: middle;\n",
              "    }\n",
              "\n",
              "    .dataframe tbody tr th {\n",
              "        vertical-align: top;\n",
              "    }\n",
              "\n",
              "    .dataframe thead th {\n",
              "        text-align: right;\n",
              "    }\n",
              "</style>\n",
              "<table border=\"1\" class=\"dataframe\">\n",
              "  <thead>\n",
              "    <tr style=\"text-align: right;\">\n",
              "      <th></th>\n",
              "      <th>index</th>\n",
              "      <th>n_star</th>\n",
              "    </tr>\n",
              "  </thead>\n",
              "  <tbody>\n",
              "    <tr>\n",
              "      <th>count</th>\n",
              "      <td>8898.000000</td>\n",
              "      <td>8898.000000</td>\n",
              "    </tr>\n",
              "    <tr>\n",
              "      <th>mean</th>\n",
              "      <td>4448.500000</td>\n",
              "      <td>3.706900</td>\n",
              "    </tr>\n",
              "    <tr>\n",
              "      <th>std</th>\n",
              "      <td>2568.775681</td>\n",
              "      <td>1.505585</td>\n",
              "    </tr>\n",
              "    <tr>\n",
              "      <th>min</th>\n",
              "      <td>0.000000</td>\n",
              "      <td>1.000000</td>\n",
              "    </tr>\n",
              "    <tr>\n",
              "      <th>25%</th>\n",
              "      <td>2224.250000</td>\n",
              "      <td>3.000000</td>\n",
              "    </tr>\n",
              "    <tr>\n",
              "      <th>50%</th>\n",
              "      <td>4448.500000</td>\n",
              "      <td>4.000000</td>\n",
              "    </tr>\n",
              "    <tr>\n",
              "      <th>75%</th>\n",
              "      <td>6672.750000</td>\n",
              "      <td>5.000000</td>\n",
              "    </tr>\n",
              "    <tr>\n",
              "      <th>max</th>\n",
              "      <td>8897.000000</td>\n",
              "      <td>5.000000</td>\n",
              "    </tr>\n",
              "  </tbody>\n",
              "</table>\n",
              "</div>"
            ],
            "text/plain": [
              "             index       n_star\n",
              "count  8898.000000  8898.000000\n",
              "mean   4448.500000     3.706900\n",
              "std    2568.775681     1.505585\n",
              "min       0.000000     1.000000\n",
              "25%    2224.250000     3.000000\n",
              "50%    4448.500000     4.000000\n",
              "75%    6672.750000     5.000000\n",
              "max    8897.000000     5.000000"
            ]
          },
          "execution_count": 56,
          "metadata": {},
          "output_type": "execute_result"
        }
      ],
      "source": [
        "df_train.describe()"
      ]
    },
    {
      "cell_type": "markdown",
      "metadata": {},
      "source": [
        "### 2.4. Preprocessing"
      ]
    },
    {
      "cell_type": "code",
      "execution_count": 57,
      "metadata": {},
      "outputs": [
        {
          "name": "stdout",
          "output_type": "stream",
          "text": [
            "['Điện thoại khá tốt pin trâu khá mượt bắt wifi cực tốt chỉ là thỉnh thoảng máy bị đơ phải thoát ra vào lại và máy ko cập nhật lên miul 12'\n",
            " 'Lúc trước nghe bảo điện thoại chơi game nóng, nhưng mua về chiến liên quân 3 4h liên tục thì chỉ thấy ấm không nóng như lời đồn, những thứ khác thì vũng chẳng có gì để nói vì quá ngon rồi'\n",
            " '1. Máy nếu không chơi game, lướt web..., ít sử dụng thì giữ Pin cao nhất được khoảng 1 ngày 16 tiếng ( Tính luôn cả lúc ngủ nhé vì khi ngủ thì chẳng động gì tới ) . Không được 2 ngày như mn nói đâu \\n2. Nhạc nghe cứ cà giật cà giật rất khó chịu luôn\\n3. Quay video bị mờ chán \\nCòn lại okie 🙆']\n"
          ]
        }
      ],
      "source": [
        "print(df_train['comment'].values[95:98])"
      ]
    },
    {
      "cell_type": "markdown",
      "metadata": {},
      "source": [
        "> Handle punctuation, handle whitespace, handle icons in strings"
      ]
    },
    {
      "cell_type": "code",
      "execution_count": 58,
      "metadata": {
        "id": "2Rmz5KxFAuQl"
      },
      "outputs": [],
      "source": [
        "def remove_punctuation(comment):\n",
        "  # Create a translation table\n",
        "  translator = str.maketrans('', '', string.punctuation)\n",
        "  # Remove punctuation\n",
        "  new_string = comment.translate(translator)\n",
        "  # Remove redudant space and break sign\n",
        "  new_string = re.sub('[\\n ]+', ' ', new_string)\n",
        "  # Remove emoji icon\n",
        "  emoji_pattern = re.compile(\"[\"\n",
        "        u\"\\U0001F600-\\U0001F64F\"  # emoticons\n",
        "        u\"\\U0001F300-\\U0001F5FF\"  # symbols & pictographs\n",
        "        u\"\\U0001F680-\\U0001F6FF\"  # transport & map symbols\n",
        "        u\"\\U0001F1E0-\\U0001F1FF\"  # flags (iOS)\n",
        "        u\"\\U00002500-\\U00002BEF\"  # chinese char\n",
        "        u\"\\U00002702-\\U000027B0\"\n",
        "        u\"\\U000024C2-\\U0001F251\"\n",
        "        u\"\\U0001f926-\\U0001f937\"\n",
        "        u\"\\U00010000-\\U0010ffff\"\n",
        "        u\"\\u2640-\\u2642\"\n",
        "        u\"\\u2600-\\u2B55\"\n",
        "        u\"\\u200d\"\n",
        "        u\"\\u23cf\"\n",
        "        u\"\\u23e9\"\n",
        "        u\"\\u231a\"\n",
        "        u\"\\ufe0f\"  # dingbats\n",
        "        u\"\\u3030\"\n",
        "                           \"]+\", flags=re.UNICODE)\n",
        "  new_string = re.sub(emoji_pattern, '', new_string)\n",
        "\n",
        "  return new_string"
      ]
    },
    {
      "cell_type": "markdown",
      "metadata": {},
      "source": [
        ">Read  stop words file "
      ]
    },
    {
      "cell_type": "code",
      "execution_count": 59,
      "metadata": {
        "id": "qQ8cTIiWOWag"
      },
      "outputs": [],
      "source": [
        "def read_filestopwords():\n",
        "    with open('../data/data_stopword/vietnamese-stopwords.txt', 'r', encoding='utf-8') as file:\n",
        "        lines = file.readlines()\n",
        "        words = [line.split('\\n')[0] for line in lines]\n",
        "    return words"
      ]
    },
    {
      "cell_type": "markdown",
      "metadata": {},
      "source": [
        "> Remove stop words"
      ]
    },
    {
      "cell_type": "code",
      "execution_count": 60,
      "metadata": {
        "id": "EcGzdPw7OxWV"
      },
      "outputs": [],
      "source": [
        "def remove_stopword(comment):\n",
        "  stop_words = read_filestopwords()\n",
        "  filtered = [word for word in comment.split() if word not in stop_words]\n",
        "  return ' '.join(filtered)"
      ]
    },
    {
      "cell_type": "markdown",
      "metadata": {},
      "source": [
        ">Normalize numbers"
      ]
    },
    {
      "cell_type": "code",
      "execution_count": 61,
      "metadata": {},
      "outputs": [],
      "source": [
        "def normalize_numbers(text):\n",
        "    return re.sub(r'\\d+', 'number', text)"
      ]
    },
    {
      "cell_type": "markdown",
      "metadata": {},
      "source": [
        ">Remove repeated words "
      ]
    },
    {
      "cell_type": "code",
      "execution_count": 62,
      "metadata": {},
      "outputs": [],
      "source": [
        "def remove_repeated_words(text):\n",
        "    words = text.split()\n",
        "    new_words = []\n",
        "    for i in range(len(words)):\n",
        "        if i == 0 or words[i] != words[i-1]:\n",
        "            new_words.append(words[i])\n",
        "    return ' '.join(new_words)"
      ]
    },
    {
      "cell_type": "markdown",
      "metadata": {},
      "source": [
        "> Execute function"
      ]
    },
    {
      "cell_type": "code",
      "execution_count": 63,
      "metadata": {
        "id": "QgPikWqh_T-V"
      },
      "outputs": [],
      "source": [
        "df_train['comment'] = df_train['comment'].apply(lambda x: x.lower())\n",
        "df_train['comment'] = df_train['comment'].apply(remove_punctuation)\n",
        "df_train['comment'] = df_train['comment'].apply(normalize_numbers)\n",
        "df_train['comment'] = df_train['comment'].apply(remove_stopword)"
      ]
    },
    {
      "cell_type": "code",
      "execution_count": 64,
      "metadata": {},
      "outputs": [],
      "source": [
        "df_test['comment'] = df_test['comment'].apply(lambda x: x.lower())\n",
        "df_test['comment']= df_test['comment'].apply(remove_punctuation)\n",
        "df_test['comment'] = df_test['comment'].apply(normalize_numbers)\n",
        "df_test['comment']= df_test['comment'].apply(remove_stopword)"
      ]
    },
    {
      "cell_type": "markdown",
      "metadata": {},
      "source": [
        "> Tokenizer "
      ]
    },
    {
      "cell_type": "code",
      "execution_count": 65,
      "metadata": {},
      "outputs": [],
      "source": [
        "df_train['comment'] = df_train['comment'].apply(lambda x: ViTokenizer.tokenize(x))\n",
        "df_test['comment']= df_test['comment'].apply(lambda x: ViTokenizer.tokenize(x))"
      ]
    },
    {
      "cell_type": "code",
      "execution_count": 66,
      "metadata": {
        "id": "lYJKnaT-UdKY"
      },
      "outputs": [
        {
          "data": {
            "text/plain": [
              "array(['điện_thoại khá tốt pin trâu khá mượt bắt wifi cực tốt thỉnh_thoảng máy đơ thoát máy ko cập_nhật miul number',\n",
              "       'nghe bảo điện_thoại chơi game nóng mua về chiến liên_quân number numberh liên_tục thấy ấm nóng lời đồn thứ khác vũng chẳng nói quá ngon',\n",
              "       'number máy chơi game lướt web ít sử_dụng giữ pin cao nhất khoảng number ngày number tiếng tính luôn cả ngủ nhé ngủ chẳng động tới number ngày mn nói đâu number nhạc nghe cà_giật cà_giật khó_chịu luôn number quay video mờ chán còn okie'],\n",
              "      dtype=object)"
            ]
          },
          "execution_count": 66,
          "metadata": {},
          "output_type": "execute_result"
        }
      ],
      "source": [
        "df_train['comment'].values[95:98]"
      ]
    },
    {
      "cell_type": "code",
      "execution_count": 67,
      "metadata": {},
      "outputs": [],
      "source": [
        "df_train['comment']=df_train['comment'].apply(remove_repeated_words)\n",
        "df_test['comment']=df_test['comment'].apply(remove_repeated_words)"
      ]
    },
    {
      "cell_type": "code",
      "execution_count": 68,
      "metadata": {},
      "outputs": [
        {
          "data": {
            "text/plain": [
              "array(['điện_thoại khá tốt pin trâu khá mượt bắt wifi cực tốt thỉnh_thoảng máy đơ thoát máy ko cập_nhật miul number',\n",
              "       'nghe bảo điện_thoại chơi game nóng mua về chiến liên_quân number numberh liên_tục thấy ấm nóng lời đồn thứ khác vũng chẳng nói quá ngon',\n",
              "       'number máy chơi game lướt web ít sử_dụng giữ pin cao nhất khoảng number ngày number tiếng tính luôn cả ngủ nhé ngủ chẳng động tới number ngày mn nói đâu number nhạc nghe cà_giật khó_chịu luôn number quay video mờ chán còn okie'],\n",
              "      dtype=object)"
            ]
          },
          "execution_count": 68,
          "metadata": {},
          "output_type": "execute_result"
        }
      ],
      "source": [
        "df_train['comment'].values[95:98]"
      ]
    },
    {
      "cell_type": "markdown",
      "metadata": {},
      "source": [
        "> Observing, we can see that there are 3 types of labels: neutral, positive and negative"
      ]
    },
    {
      "cell_type": "code",
      "execution_count": 69,
      "metadata": {},
      "outputs": [
        {
          "data": {
            "text/html": [
              "<div>\n",
              "<style scoped>\n",
              "    .dataframe tbody tr th:only-of-type {\n",
              "        vertical-align: middle;\n",
              "    }\n",
              "\n",
              "    .dataframe tbody tr th {\n",
              "        vertical-align: top;\n",
              "    }\n",
              "\n",
              "    .dataframe thead th {\n",
              "        text-align: right;\n",
              "    }\n",
              "</style>\n",
              "<table border=\"1\" class=\"dataframe\">\n",
              "  <thead>\n",
              "    <tr style=\"text-align: right;\">\n",
              "      <th></th>\n",
              "      <th>index</th>\n",
              "      <th>comment</th>\n",
              "      <th>n_star</th>\n",
              "      <th>date_time</th>\n",
              "      <th>label</th>\n",
              "    </tr>\n",
              "  </thead>\n",
              "  <tbody>\n",
              "    <tr>\n",
              "      <th>0</th>\n",
              "      <td>0</td>\n",
              "      <td>mới mua máy thegioididong thốt_nốt cảm_thấy ok...</td>\n",
              "      <td>5</td>\n",
              "      <td>2 tuần trước</td>\n",
              "      <td>{CAMERA#Positive};{FEATURES#Positive};{BATTERY...</td>\n",
              "    </tr>\n",
              "    <tr>\n",
              "      <th>1</th>\n",
              "      <td>1</td>\n",
              "      <td>pin kém còn miễn chê mua number tình_trạng pin...</td>\n",
              "      <td>5</td>\n",
              "      <td>14/09/2019</td>\n",
              "      <td>{BATTERY#Negative};{GENERAL#Positive};{OTHERS};</td>\n",
              "    </tr>\n",
              "    <tr>\n",
              "      <th>2</th>\n",
              "      <td>2</td>\n",
              "      <td>sao gọi điện_thoại màn_hình chấm nhỏ nháy gần ...</td>\n",
              "      <td>3</td>\n",
              "      <td>17/08/2020</td>\n",
              "      <td>{FEATURES#Negative};</td>\n",
              "    </tr>\n",
              "    <tr>\n",
              "      <th>3</th>\n",
              "      <td>3</td>\n",
              "      <td>mọi người cập_nhật phần_mềm nó bớt tốn pin mìn...</td>\n",
              "      <td>3</td>\n",
              "      <td>29/02/2020</td>\n",
              "      <td>{FEATURES#Negative};{BATTERY#Neutral};{GENERAL...</td>\n",
              "    </tr>\n",
              "    <tr>\n",
              "      <th>4</th>\n",
              "      <td>4</td>\n",
              "      <td>mới mua sài number tháng thấy pin trâu sài bao...</td>\n",
              "      <td>5</td>\n",
              "      <td>4/6/2020</td>\n",
              "      <td>{BATTERY#Positive};{PERFORMANCE#Positive};{SER...</td>\n",
              "    </tr>\n",
              "  </tbody>\n",
              "</table>\n",
              "</div>"
            ],
            "text/plain": [
              "   index                                            comment  n_star  \\\n",
              "0      0  mới mua máy thegioididong thốt_nốt cảm_thấy ok...       5   \n",
              "1      1  pin kém còn miễn chê mua number tình_trạng pin...       5   \n",
              "2      2  sao gọi điện_thoại màn_hình chấm nhỏ nháy gần ...       3   \n",
              "3      3  mọi người cập_nhật phần_mềm nó bớt tốn pin mìn...       3   \n",
              "4      4  mới mua sài number tháng thấy pin trâu sài bao...       5   \n",
              "\n",
              "      date_time                                              label  \n",
              "0  2 tuần trước  {CAMERA#Positive};{FEATURES#Positive};{BATTERY...  \n",
              "1    14/09/2019    {BATTERY#Negative};{GENERAL#Positive};{OTHERS};  \n",
              "2    17/08/2020                               {FEATURES#Negative};  \n",
              "3    29/02/2020  {FEATURES#Negative};{BATTERY#Neutral};{GENERAL...  \n",
              "4      4/6/2020  {BATTERY#Positive};{PERFORMANCE#Positive};{SER...  "
            ]
          },
          "execution_count": 69,
          "metadata": {},
          "output_type": "execute_result"
        }
      ],
      "source": [
        "df_train.head(5)"
      ]
    },
    {
      "cell_type": "markdown",
      "metadata": {},
      "source": [
        "> Count Features"
      ]
    },
    {
      "cell_type": "code",
      "execution_count": 70,
      "metadata": {},
      "outputs": [],
      "source": [
        "def count_features(label):\n",
        "    features = re.findall(r'\\{.*?#', label)\n",
        "    num_features = len(features)\n",
        "    return num_features"
      ]
    },
    {
      "cell_type": "markdown",
      "metadata": {},
      "source": [
        "> Execute function"
      ]
    },
    {
      "cell_type": "code",
      "execution_count": 71,
      "metadata": {},
      "outputs": [],
      "source": [
        "count_features = df_train['label'].apply(count_features)"
      ]
    },
    {
      "cell_type": "markdown",
      "metadata": {},
      "source": [
        "> Find max features"
      ]
    },
    {
      "cell_type": "code",
      "execution_count": 72,
      "metadata": {},
      "outputs": [
        {
          "name": "stdout",
          "output_type": "stream",
          "text": [
            "Number of features included: {SCREEN#Positive};{CAMERA#Positive};{FEATURES#Positive};{BATTERY#Positive};{PERFORMANCE#Positive};{DESIGN#Positive};{PRICE#Neutral};{GENERAL#Positive};{SER&ACC#Positive};\n",
            "Max features:  9\n"
          ]
        }
      ],
      "source": [
        "index_max_features=count_features.idxmax()\n",
        "number_of_features=df_train.loc[index_max_features,'label']\n",
        "print(f\"Number of features included: {number_of_features}\")\n",
        "print(f\"Max features:  {count_features.max()}\")"
      ]
    },
    {
      "cell_type": "code",
      "execution_count": 73,
      "metadata": {},
      "outputs": [],
      "source": [
        "def check_value_features(data):\n",
        "    for feature in number_of_features:\n",
        "          if feature in data:\n",
        "            return True\n",
        "    return False"
      ]
    },
    {
      "cell_type": "markdown",
      "metadata": {},
      "source": [
        ">Execute Function"
      ]
    },
    {
      "cell_type": "code",
      "execution_count": 74,
      "metadata": {},
      "outputs": [
        {
          "name": "stdout",
          "output_type": "stream",
          "text": [
            "8898\n",
            "Empty DataFrame\n",
            "Columns: [index, comment, n_star, date_time, label, contains_features]\n",
            "Index: []\n"
          ]
        }
      ],
      "source": [
        "df_train['contains_features'] =df_train['label'].apply(lambda x:check_value_features(x))\n",
        "print(df_train['contains_features'].count())\n",
        "# Hiển thị các dòng không chứa ít nhất một trong các tính năng được liệt kê\n",
        "rows_without_features = df_train[~df_train['contains_features']]\n",
        "print(rows_without_features)"
      ]
    },
    {
      "cell_type": "markdown",
      "metadata": {},
      "source": [
        "> Function count how many characteristics belong to the labels positive, negative, neutral"
      ]
    },
    {
      "cell_type": "code",
      "execution_count": 75,
      "metadata": {
        "id": "RpUvylzcVPUh"
      },
      "outputs": [],
      "source": [
        "def count_positive_labels(label):\n",
        "    return label.count(\"Positive\")\n",
        "def count_neural_labels(label):\n",
        "    return label.count(\"Neutral\")\n",
        "def count_negative_labels(label):\n",
        "    return label.count(\"Negative\")"
      ]
    },
    {
      "cell_type": "markdown",
      "metadata": {},
      "source": [
        "> Execute function"
      ]
    },
    {
      "cell_type": "code",
      "execution_count": 76,
      "metadata": {
        "id": "yeKTDzfWVdYA"
      },
      "outputs": [],
      "source": [
        "df_train['positive_count']=df_train['label'].apply(count_positive_labels)\n",
        "df_train['neutral_count']=df_train['label'].apply(count_neural_labels)\n",
        "df_train['negative_count']=df_train['label'].apply(count_negative_labels)\n",
        "df_test['positive_count']=df_test['label'].apply(count_positive_labels)\n",
        "df_test['neutral_count']=df_test['label'].apply(count_neural_labels)\n",
        "df_test['negative_count']=df_test['label'].apply(count_negative_labels)"
      ]
    },
    {
      "cell_type": "markdown",
      "metadata": {},
      "source": [
        "> Assign label"
      ]
    },
    {
      "cell_type": "code",
      "execution_count": 77,
      "metadata": {
        "id": "O3CK25vaVn4p"
      },
      "outputs": [],
      "source": [
        "def assign_label(row):\n",
        "    if row['positive_count'] > row['neutral_count'] and row['positive_count'] > row['negative_count']:\n",
        "        return 'Positive'\n",
        "    elif row['negative_count'] >row['neutral_count'] and row['negative_count'] > row['positive_count']:\n",
        "        return 'Negative'\n",
        "    elif row['negative_count'] == row['neutral_count'] :\n",
        "        return 'Negative'\n",
        "    elif row['neutral_count']== row ['positive_count']:\n",
        "        return \"Positive\"\n",
        "    else :\n",
        "        return \"Neutral\""
      ]
    },
    {
      "cell_type": "markdown",
      "metadata": {},
      "source": [
        ">Execute function"
      ]
    },
    {
      "cell_type": "code",
      "execution_count": 78,
      "metadata": {
        "id": "tV6lesAgVoS_"
      },
      "outputs": [],
      "source": [
        "df_train['label'] = df_train.apply(assign_label, axis=1)\n",
        "df_test['label'] = df_test.apply(assign_label,axis=1)"
      ]
    },
    {
      "cell_type": "code",
      "execution_count": 79,
      "metadata": {
        "id": "sxiMl-e7VpSi"
      },
      "outputs": [
        {
          "data": {
            "text/html": [
              "<div>\n",
              "<style scoped>\n",
              "    .dataframe tbody tr th:only-of-type {\n",
              "        vertical-align: middle;\n",
              "    }\n",
              "\n",
              "    .dataframe tbody tr th {\n",
              "        vertical-align: top;\n",
              "    }\n",
              "\n",
              "    .dataframe thead th {\n",
              "        text-align: right;\n",
              "    }\n",
              "</style>\n",
              "<table border=\"1\" class=\"dataframe\">\n",
              "  <thead>\n",
              "    <tr style=\"text-align: right;\">\n",
              "      <th></th>\n",
              "      <th>index</th>\n",
              "      <th>comment</th>\n",
              "      <th>n_star</th>\n",
              "      <th>date_time</th>\n",
              "      <th>label</th>\n",
              "      <th>contains_features</th>\n",
              "      <th>positive_count</th>\n",
              "      <th>neutral_count</th>\n",
              "      <th>negative_count</th>\n",
              "    </tr>\n",
              "  </thead>\n",
              "  <tbody>\n",
              "    <tr>\n",
              "      <th>0</th>\n",
              "      <td>0</td>\n",
              "      <td>mới mua máy thegioididong thốt_nốt cảm_thấy ok...</td>\n",
              "      <td>5</td>\n",
              "      <td>2 tuần trước</td>\n",
              "      <td>Positive</td>\n",
              "      <td>True</td>\n",
              "      <td>6</td>\n",
              "      <td>0</td>\n",
              "      <td>0</td>\n",
              "    </tr>\n",
              "    <tr>\n",
              "      <th>1</th>\n",
              "      <td>1</td>\n",
              "      <td>pin kém còn miễn chê mua number tình_trạng pin...</td>\n",
              "      <td>5</td>\n",
              "      <td>14/09/2019</td>\n",
              "      <td>Neutral</td>\n",
              "      <td>True</td>\n",
              "      <td>1</td>\n",
              "      <td>0</td>\n",
              "      <td>1</td>\n",
              "    </tr>\n",
              "    <tr>\n",
              "      <th>2</th>\n",
              "      <td>2</td>\n",
              "      <td>sao gọi điện_thoại màn_hình chấm nhỏ nháy gần ...</td>\n",
              "      <td>3</td>\n",
              "      <td>17/08/2020</td>\n",
              "      <td>Negative</td>\n",
              "      <td>True</td>\n",
              "      <td>0</td>\n",
              "      <td>0</td>\n",
              "      <td>1</td>\n",
              "    </tr>\n",
              "    <tr>\n",
              "      <th>3</th>\n",
              "      <td>3</td>\n",
              "      <td>mọi người cập_nhật phần_mềm nó bớt tốn pin mìn...</td>\n",
              "      <td>3</td>\n",
              "      <td>29/02/2020</td>\n",
              "      <td>Neutral</td>\n",
              "      <td>True</td>\n",
              "      <td>0</td>\n",
              "      <td>2</td>\n",
              "      <td>1</td>\n",
              "    </tr>\n",
              "    <tr>\n",
              "      <th>4</th>\n",
              "      <td>4</td>\n",
              "      <td>mới mua sài number tháng thấy pin trâu sài bao...</td>\n",
              "      <td>5</td>\n",
              "      <td>4/6/2020</td>\n",
              "      <td>Positive</td>\n",
              "      <td>True</td>\n",
              "      <td>2</td>\n",
              "      <td>0</td>\n",
              "      <td>1</td>\n",
              "    </tr>\n",
              "    <tr>\n",
              "      <th>5</th>\n",
              "      <td>5</td>\n",
              "      <td>xài tốt mượt pin trâu bạn độ sáng đủ nhân_viên...</td>\n",
              "      <td>5</td>\n",
              "      <td>20/06/2019</td>\n",
              "      <td>Positive</td>\n",
              "      <td>True</td>\n",
              "      <td>3</td>\n",
              "      <td>2</td>\n",
              "      <td>0</td>\n",
              "    </tr>\n",
              "    <tr>\n",
              "      <th>6</th>\n",
              "      <td>6</td>\n",
              "      <td>mình mới xài number tháng xuống number pin chả...</td>\n",
              "      <td>1</td>\n",
              "      <td>1 tuần trước</td>\n",
              "      <td>Negative</td>\n",
              "      <td>True</td>\n",
              "      <td>0</td>\n",
              "      <td>0</td>\n",
              "      <td>1</td>\n",
              "    </tr>\n",
              "    <tr>\n",
              "      <th>7</th>\n",
              "      <td>7</td>\n",
              "      <td>hôm ngày number e thế_giới di_động mua dthoai ...</td>\n",
              "      <td>2</td>\n",
              "      <td>23/06/2020</td>\n",
              "      <td>Negative</td>\n",
              "      <td>True</td>\n",
              "      <td>0</td>\n",
              "      <td>0</td>\n",
              "      <td>1</td>\n",
              "    </tr>\n",
              "  </tbody>\n",
              "</table>\n",
              "</div>"
            ],
            "text/plain": [
              "   index                                            comment  n_star  \\\n",
              "0      0  mới mua máy thegioididong thốt_nốt cảm_thấy ok...       5   \n",
              "1      1  pin kém còn miễn chê mua number tình_trạng pin...       5   \n",
              "2      2  sao gọi điện_thoại màn_hình chấm nhỏ nháy gần ...       3   \n",
              "3      3  mọi người cập_nhật phần_mềm nó bớt tốn pin mìn...       3   \n",
              "4      4  mới mua sài number tháng thấy pin trâu sài bao...       5   \n",
              "5      5  xài tốt mượt pin trâu bạn độ sáng đủ nhân_viên...       5   \n",
              "6      6  mình mới xài number tháng xuống number pin chả...       1   \n",
              "7      7  hôm ngày number e thế_giới di_động mua dthoai ...       2   \n",
              "\n",
              "      date_time     label  contains_features  positive_count  neutral_count  \\\n",
              "0  2 tuần trước  Positive               True               6              0   \n",
              "1    14/09/2019   Neutral               True               1              0   \n",
              "2    17/08/2020  Negative               True               0              0   \n",
              "3    29/02/2020   Neutral               True               0              2   \n",
              "4      4/6/2020  Positive               True               2              0   \n",
              "5    20/06/2019  Positive               True               3              2   \n",
              "6  1 tuần trước  Negative               True               0              0   \n",
              "7    23/06/2020  Negative               True               0              0   \n",
              "\n",
              "   negative_count  \n",
              "0               0  \n",
              "1               1  \n",
              "2               1  \n",
              "3               1  \n",
              "4               1  \n",
              "5               0  \n",
              "6               1  \n",
              "7               1  "
            ]
          },
          "execution_count": 79,
          "metadata": {},
          "output_type": "execute_result"
        }
      ],
      "source": [
        "df_train.head(8)"
      ]
    },
    {
      "cell_type": "markdown",
      "metadata": {},
      "source": [
        "> "
      ]
    },
    {
      "cell_type": "code",
      "execution_count": 80,
      "metadata": {
        "id": "Qd5NUSpmVsO8"
      },
      "outputs": [
        {
          "data": {
            "text/plain": [
              "Index(['index', 'comment', 'n_star', 'date_time', 'label', 'contains_features',\n",
              "       'positive_count', 'neutral_count', 'negative_count'],\n",
              "      dtype='object')"
            ]
          },
          "execution_count": 80,
          "metadata": {},
          "output_type": "execute_result"
        }
      ],
      "source": [
        "df_train.columns"
      ]
    },
    {
      "cell_type": "code",
      "execution_count": 81,
      "metadata": {
        "id": "9hHNGdGeVsyX"
      },
      "outputs": [
        {
          "data": {
            "text/plain": [
              "(8898, 9)"
            ]
          },
          "execution_count": 81,
          "metadata": {},
          "output_type": "execute_result"
        }
      ],
      "source": [
        "df_train.shape"
      ]
    },
    {
      "cell_type": "markdown",
      "metadata": {},
      "source": [
        ">observed that there is asynchronous data in the datetime column"
      ]
    },
    {
      "cell_type": "code",
      "execution_count": 82,
      "metadata": {},
      "outputs": [
        {
          "data": {
            "text/html": [
              "<div>\n",
              "<style scoped>\n",
              "    .dataframe tbody tr th:only-of-type {\n",
              "        vertical-align: middle;\n",
              "    }\n",
              "\n",
              "    .dataframe tbody tr th {\n",
              "        vertical-align: top;\n",
              "    }\n",
              "\n",
              "    .dataframe thead th {\n",
              "        text-align: right;\n",
              "    }\n",
              "</style>\n",
              "<table border=\"1\" class=\"dataframe\">\n",
              "  <thead>\n",
              "    <tr style=\"text-align: right;\">\n",
              "      <th></th>\n",
              "      <th>index</th>\n",
              "      <th>comment</th>\n",
              "      <th>n_star</th>\n",
              "      <th>date_time</th>\n",
              "      <th>label</th>\n",
              "      <th>contains_features</th>\n",
              "      <th>positive_count</th>\n",
              "      <th>neutral_count</th>\n",
              "      <th>negative_count</th>\n",
              "    </tr>\n",
              "  </thead>\n",
              "  <tbody>\n",
              "    <tr>\n",
              "      <th>0</th>\n",
              "      <td>0</td>\n",
              "      <td>mới mua máy thegioididong thốt_nốt cảm_thấy ok...</td>\n",
              "      <td>5</td>\n",
              "      <td>2 tuần trước</td>\n",
              "      <td>Positive</td>\n",
              "      <td>True</td>\n",
              "      <td>6</td>\n",
              "      <td>0</td>\n",
              "      <td>0</td>\n",
              "    </tr>\n",
              "    <tr>\n",
              "      <th>1</th>\n",
              "      <td>1</td>\n",
              "      <td>pin kém còn miễn chê mua number tình_trạng pin...</td>\n",
              "      <td>5</td>\n",
              "      <td>14/09/2019</td>\n",
              "      <td>Neutral</td>\n",
              "      <td>True</td>\n",
              "      <td>1</td>\n",
              "      <td>0</td>\n",
              "      <td>1</td>\n",
              "    </tr>\n",
              "    <tr>\n",
              "      <th>2</th>\n",
              "      <td>2</td>\n",
              "      <td>sao gọi điện_thoại màn_hình chấm nhỏ nháy gần ...</td>\n",
              "      <td>3</td>\n",
              "      <td>17/08/2020</td>\n",
              "      <td>Negative</td>\n",
              "      <td>True</td>\n",
              "      <td>0</td>\n",
              "      <td>0</td>\n",
              "      <td>1</td>\n",
              "    </tr>\n",
              "    <tr>\n",
              "      <th>3</th>\n",
              "      <td>3</td>\n",
              "      <td>mọi người cập_nhật phần_mềm nó bớt tốn pin mìn...</td>\n",
              "      <td>3</td>\n",
              "      <td>29/02/2020</td>\n",
              "      <td>Neutral</td>\n",
              "      <td>True</td>\n",
              "      <td>0</td>\n",
              "      <td>2</td>\n",
              "      <td>1</td>\n",
              "    </tr>\n",
              "    <tr>\n",
              "      <th>4</th>\n",
              "      <td>4</td>\n",
              "      <td>mới mua sài number tháng thấy pin trâu sài bao...</td>\n",
              "      <td>5</td>\n",
              "      <td>4/6/2020</td>\n",
              "      <td>Positive</td>\n",
              "      <td>True</td>\n",
              "      <td>2</td>\n",
              "      <td>0</td>\n",
              "      <td>1</td>\n",
              "    </tr>\n",
              "  </tbody>\n",
              "</table>\n",
              "</div>"
            ],
            "text/plain": [
              "   index                                            comment  n_star  \\\n",
              "0      0  mới mua máy thegioididong thốt_nốt cảm_thấy ok...       5   \n",
              "1      1  pin kém còn miễn chê mua number tình_trạng pin...       5   \n",
              "2      2  sao gọi điện_thoại màn_hình chấm nhỏ nháy gần ...       3   \n",
              "3      3  mọi người cập_nhật phần_mềm nó bớt tốn pin mìn...       3   \n",
              "4      4  mới mua sài number tháng thấy pin trâu sài bao...       5   \n",
              "\n",
              "      date_time     label  contains_features  positive_count  neutral_count  \\\n",
              "0  2 tuần trước  Positive               True               6              0   \n",
              "1    14/09/2019   Neutral               True               1              0   \n",
              "2    17/08/2020  Negative               True               0              0   \n",
              "3    29/02/2020   Neutral               True               0              2   \n",
              "4      4/6/2020  Positive               True               2              0   \n",
              "\n",
              "   negative_count  \n",
              "0               0  \n",
              "1               1  \n",
              "2               1  \n",
              "3               1  \n",
              "4               1  "
            ]
          },
          "execution_count": 82,
          "metadata": {},
          "output_type": "execute_result"
        }
      ],
      "source": [
        "df_train.head(5)"
      ]
    },
    {
      "cell_type": "markdown",
      "metadata": {},
      "source": [
        "> Function Check datetime"
      ]
    },
    {
      "cell_type": "code",
      "execution_count": 83,
      "metadata": {
        "id": "i7S6LA5AVtwo"
      },
      "outputs": [],
      "source": [
        "def is_valid_date(date_str):\n",
        "    # Biểu thức chính quy để kiểm tra định dạng ngày tháng\n",
        "    date_pattern = r'\\d{1,2}/\\d{1,2}/\\d{4}'\n",
        "    return bool(re.match(date_pattern, date_str))"
      ]
    },
    {
      "cell_type": "markdown",
      "metadata": {},
      "source": [
        "> Execute function"
      ]
    },
    {
      "cell_type": "code",
      "execution_count": 84,
      "metadata": {
        "id": "T4fqGajrVvko"
      },
      "outputs": [],
      "source": [
        "valid_dates = df_train[df_train['date_time'].apply(is_valid_date)]\n",
        "valid_dates_test=df_test[df_test['date_time'].apply(is_valid_date)]"
      ]
    },
    {
      "cell_type": "markdown",
      "metadata": {},
      "source": [
        "> Observing we see that there are 6930 valid values"
      ]
    },
    {
      "cell_type": "code",
      "execution_count": 85,
      "metadata": {
        "id": "tvYAAdywVwvI"
      },
      "outputs": [
        {
          "data": {
            "text/plain": [
              "(7927, 9)"
            ]
          },
          "execution_count": 85,
          "metadata": {},
          "output_type": "execute_result"
        }
      ],
      "source": [
        "valid_dates.shape"
      ]
    },
    {
      "cell_type": "code",
      "execution_count": 86,
      "metadata": {},
      "outputs": [
        {
          "data": {
            "text/html": [
              "<div>\n",
              "<style scoped>\n",
              "    .dataframe tbody tr th:only-of-type {\n",
              "        vertical-align: middle;\n",
              "    }\n",
              "\n",
              "    .dataframe tbody tr th {\n",
              "        vertical-align: top;\n",
              "    }\n",
              "\n",
              "    .dataframe thead th {\n",
              "        text-align: right;\n",
              "    }\n",
              "</style>\n",
              "<table border=\"1\" class=\"dataframe\">\n",
              "  <thead>\n",
              "    <tr style=\"text-align: right;\">\n",
              "      <th></th>\n",
              "      <th>index</th>\n",
              "      <th>comment</th>\n",
              "      <th>n_star</th>\n",
              "      <th>date_time</th>\n",
              "      <th>label</th>\n",
              "      <th>contains_features</th>\n",
              "      <th>positive_count</th>\n",
              "      <th>neutral_count</th>\n",
              "      <th>negative_count</th>\n",
              "    </tr>\n",
              "  </thead>\n",
              "  <tbody>\n",
              "    <tr>\n",
              "      <th>1</th>\n",
              "      <td>1</td>\n",
              "      <td>pin kém còn miễn chê mua number tình_trạng pin...</td>\n",
              "      <td>5</td>\n",
              "      <td>14/09/2019</td>\n",
              "      <td>Neutral</td>\n",
              "      <td>True</td>\n",
              "      <td>1</td>\n",
              "      <td>0</td>\n",
              "      <td>1</td>\n",
              "    </tr>\n",
              "    <tr>\n",
              "      <th>2</th>\n",
              "      <td>2</td>\n",
              "      <td>sao gọi điện_thoại màn_hình chấm nhỏ nháy gần ...</td>\n",
              "      <td>3</td>\n",
              "      <td>17/08/2020</td>\n",
              "      <td>Negative</td>\n",
              "      <td>True</td>\n",
              "      <td>0</td>\n",
              "      <td>0</td>\n",
              "      <td>1</td>\n",
              "    </tr>\n",
              "    <tr>\n",
              "      <th>3</th>\n",
              "      <td>3</td>\n",
              "      <td>mọi người cập_nhật phần_mềm nó bớt tốn pin mìn...</td>\n",
              "      <td>3</td>\n",
              "      <td>29/02/2020</td>\n",
              "      <td>Neutral</td>\n",
              "      <td>True</td>\n",
              "      <td>0</td>\n",
              "      <td>2</td>\n",
              "      <td>1</td>\n",
              "    </tr>\n",
              "    <tr>\n",
              "      <th>4</th>\n",
              "      <td>4</td>\n",
              "      <td>mới mua sài number tháng thấy pin trâu sài bao...</td>\n",
              "      <td>5</td>\n",
              "      <td>4/6/2020</td>\n",
              "      <td>Positive</td>\n",
              "      <td>True</td>\n",
              "      <td>2</td>\n",
              "      <td>0</td>\n",
              "      <td>1</td>\n",
              "    </tr>\n",
              "    <tr>\n",
              "      <th>5</th>\n",
              "      <td>5</td>\n",
              "      <td>xài tốt mượt pin trâu bạn độ sáng đủ nhân_viên...</td>\n",
              "      <td>5</td>\n",
              "      <td>20/06/2019</td>\n",
              "      <td>Positive</td>\n",
              "      <td>True</td>\n",
              "      <td>3</td>\n",
              "      <td>2</td>\n",
              "      <td>0</td>\n",
              "    </tr>\n",
              "  </tbody>\n",
              "</table>\n",
              "</div>"
            ],
            "text/plain": [
              "   index                                            comment  n_star  \\\n",
              "1      1  pin kém còn miễn chê mua number tình_trạng pin...       5   \n",
              "2      2  sao gọi điện_thoại màn_hình chấm nhỏ nháy gần ...       3   \n",
              "3      3  mọi người cập_nhật phần_mềm nó bớt tốn pin mìn...       3   \n",
              "4      4  mới mua sài number tháng thấy pin trâu sài bao...       5   \n",
              "5      5  xài tốt mượt pin trâu bạn độ sáng đủ nhân_viên...       5   \n",
              "\n",
              "    date_time     label  contains_features  positive_count  neutral_count  \\\n",
              "1  14/09/2019   Neutral               True               1              0   \n",
              "2  17/08/2020  Negative               True               0              0   \n",
              "3  29/02/2020   Neutral               True               0              2   \n",
              "4    4/6/2020  Positive               True               2              0   \n",
              "5  20/06/2019  Positive               True               3              2   \n",
              "\n",
              "   negative_count  \n",
              "1               1  \n",
              "2               1  \n",
              "3               1  \n",
              "4               1  \n",
              "5               0  "
            ]
          },
          "execution_count": 86,
          "metadata": {},
          "output_type": "execute_result"
        }
      ],
      "source": [
        "valid_dates.head(5)"
      ]
    },
    {
      "cell_type": "code",
      "execution_count": 87,
      "metadata": {
        "id": "KXmHN-LAVxgw"
      },
      "outputs": [],
      "source": [
        "invalid_dates=df_train[~df_train['date_time'].apply(is_valid_date)]\n",
        "invalid_dates_test=df_test[~df_test['date_time'].apply(is_valid_date)]"
      ]
    },
    {
      "cell_type": "markdown",
      "metadata": {},
      "source": [
        "> There are 856 values in the datetime column out of a total of 6930 that have inconsistent formatting"
      ]
    },
    {
      "cell_type": "code",
      "execution_count": 88,
      "metadata": {
        "id": "CRalG3oKVzl5"
      },
      "outputs": [
        {
          "data": {
            "text/plain": [
              "(971, 9)"
            ]
          },
          "execution_count": 88,
          "metadata": {},
          "output_type": "execute_result"
        }
      ],
      "source": [
        "invalid_dates.shape"
      ]
    },
    {
      "cell_type": "code",
      "execution_count": 89,
      "metadata": {
        "id": "OW97lUbpV0B1"
      },
      "outputs": [
        {
          "data": {
            "text/html": [
              "<div>\n",
              "<style scoped>\n",
              "    .dataframe tbody tr th:only-of-type {\n",
              "        vertical-align: middle;\n",
              "    }\n",
              "\n",
              "    .dataframe tbody tr th {\n",
              "        vertical-align: top;\n",
              "    }\n",
              "\n",
              "    .dataframe thead th {\n",
              "        text-align: right;\n",
              "    }\n",
              "</style>\n",
              "<table border=\"1\" class=\"dataframe\">\n",
              "  <thead>\n",
              "    <tr style=\"text-align: right;\">\n",
              "      <th></th>\n",
              "      <th>index</th>\n",
              "      <th>comment</th>\n",
              "      <th>n_star</th>\n",
              "      <th>date_time</th>\n",
              "      <th>label</th>\n",
              "      <th>contains_features</th>\n",
              "      <th>positive_count</th>\n",
              "      <th>neutral_count</th>\n",
              "      <th>negative_count</th>\n",
              "    </tr>\n",
              "  </thead>\n",
              "  <tbody>\n",
              "    <tr>\n",
              "      <th>0</th>\n",
              "      <td>0</td>\n",
              "      <td>mới mua máy thegioididong thốt_nốt cảm_thấy ok...</td>\n",
              "      <td>5</td>\n",
              "      <td>2 tuần trước</td>\n",
              "      <td>Positive</td>\n",
              "      <td>True</td>\n",
              "      <td>6</td>\n",
              "      <td>0</td>\n",
              "      <td>0</td>\n",
              "    </tr>\n",
              "    <tr>\n",
              "      <th>6</th>\n",
              "      <td>6</td>\n",
              "      <td>mình mới xài number tháng xuống number pin chả...</td>\n",
              "      <td>1</td>\n",
              "      <td>1 tuần trước</td>\n",
              "      <td>Negative</td>\n",
              "      <td>True</td>\n",
              "      <td>0</td>\n",
              "      <td>0</td>\n",
              "      <td>1</td>\n",
              "    </tr>\n",
              "    <tr>\n",
              "      <th>11</th>\n",
              "      <td>11</td>\n",
              "      <td>khá ổn trong tầm giá cam đẹp sạc nhanh màn_hìn...</td>\n",
              "      <td>5</td>\n",
              "      <td>3 tuần trước</td>\n",
              "      <td>Positive</td>\n",
              "      <td>True</td>\n",
              "      <td>4</td>\n",
              "      <td>2</td>\n",
              "      <td>0</td>\n",
              "    </tr>\n",
              "    <tr>\n",
              "      <th>14</th>\n",
              "      <td>14</td>\n",
              "      <td>mình mua dc number tuần máy phát trực_tiếp tự_...</td>\n",
              "      <td>1</td>\n",
              "      <td>6 ngày trước</td>\n",
              "      <td>Negative</td>\n",
              "      <td>True</td>\n",
              "      <td>0</td>\n",
              "      <td>0</td>\n",
              "      <td>3</td>\n",
              "    </tr>\n",
              "    <tr>\n",
              "      <th>18</th>\n",
              "      <td>18</td>\n",
              "      <td>dùng đơ máy bấm mãi mới khởi_động song nóng ra...</td>\n",
              "      <td>1</td>\n",
              "      <td>5 ngày trước</td>\n",
              "      <td>Negative</td>\n",
              "      <td>True</td>\n",
              "      <td>0</td>\n",
              "      <td>0</td>\n",
              "      <td>1</td>\n",
              "    </tr>\n",
              "  </tbody>\n",
              "</table>\n",
              "</div>"
            ],
            "text/plain": [
              "    index                                            comment  n_star  \\\n",
              "0       0  mới mua máy thegioididong thốt_nốt cảm_thấy ok...       5   \n",
              "6       6  mình mới xài number tháng xuống number pin chả...       1   \n",
              "11     11  khá ổn trong tầm giá cam đẹp sạc nhanh màn_hìn...       5   \n",
              "14     14  mình mua dc number tuần máy phát trực_tiếp tự_...       1   \n",
              "18     18  dùng đơ máy bấm mãi mới khởi_động song nóng ra...       1   \n",
              "\n",
              "       date_time     label  contains_features  positive_count  neutral_count  \\\n",
              "0   2 tuần trước  Positive               True               6              0   \n",
              "6   1 tuần trước  Negative               True               0              0   \n",
              "11  3 tuần trước  Positive               True               4              2   \n",
              "14  6 ngày trước  Negative               True               0              0   \n",
              "18  5 ngày trước  Negative               True               0              0   \n",
              "\n",
              "    negative_count  \n",
              "0                0  \n",
              "6                1  \n",
              "11               0  \n",
              "14               3  \n",
              "18               1  "
            ]
          },
          "execution_count": 89,
          "metadata": {},
          "output_type": "execute_result"
        }
      ],
      "source": [
        "invalid_dates.head(5)"
      ]
    },
    {
      "cell_type": "markdown",
      "metadata": {},
      "source": [
        "> Fill in the common value for that attribute"
      ]
    },
    {
      "cell_type": "code",
      "execution_count": 90,
      "metadata": {
        "id": "MF8tlmE8V1la"
      },
      "outputs": [],
      "source": [
        "common_value=valid_dates['date_time'].mode()[0]\n",
        "common_value_test=valid_dates_test['date_time'].mode()[0]\n",
        "invalid_dates.loc[:, 'date_time'] = common_value\n",
        "invalid_dates_test.loc[:,'date_time']=common_value"
      ]
    },
    {
      "cell_type": "code",
      "execution_count": 91,
      "metadata": {
        "id": "CsH0S6rQV4GR"
      },
      "outputs": [
        {
          "data": {
            "text/html": [
              "<div>\n",
              "<style scoped>\n",
              "    .dataframe tbody tr th:only-of-type {\n",
              "        vertical-align: middle;\n",
              "    }\n",
              "\n",
              "    .dataframe tbody tr th {\n",
              "        vertical-align: top;\n",
              "    }\n",
              "\n",
              "    .dataframe thead th {\n",
              "        text-align: right;\n",
              "    }\n",
              "</style>\n",
              "<table border=\"1\" class=\"dataframe\">\n",
              "  <thead>\n",
              "    <tr style=\"text-align: right;\">\n",
              "      <th></th>\n",
              "      <th>index</th>\n",
              "      <th>comment</th>\n",
              "      <th>n_star</th>\n",
              "      <th>date_time</th>\n",
              "      <th>label</th>\n",
              "      <th>contains_features</th>\n",
              "      <th>positive_count</th>\n",
              "      <th>neutral_count</th>\n",
              "      <th>negative_count</th>\n",
              "    </tr>\n",
              "  </thead>\n",
              "  <tbody>\n",
              "    <tr>\n",
              "      <th>0</th>\n",
              "      <td>0</td>\n",
              "      <td>mới mua máy thegioididong thốt_nốt cảm_thấy ok...</td>\n",
              "      <td>5</td>\n",
              "      <td>21/04/2020</td>\n",
              "      <td>Positive</td>\n",
              "      <td>True</td>\n",
              "      <td>6</td>\n",
              "      <td>0</td>\n",
              "      <td>0</td>\n",
              "    </tr>\n",
              "    <tr>\n",
              "      <th>6</th>\n",
              "      <td>6</td>\n",
              "      <td>mình mới xài number tháng xuống number pin chả...</td>\n",
              "      <td>1</td>\n",
              "      <td>21/04/2020</td>\n",
              "      <td>Negative</td>\n",
              "      <td>True</td>\n",
              "      <td>0</td>\n",
              "      <td>0</td>\n",
              "      <td>1</td>\n",
              "    </tr>\n",
              "    <tr>\n",
              "      <th>11</th>\n",
              "      <td>11</td>\n",
              "      <td>khá ổn trong tầm giá cam đẹp sạc nhanh màn_hìn...</td>\n",
              "      <td>5</td>\n",
              "      <td>21/04/2020</td>\n",
              "      <td>Positive</td>\n",
              "      <td>True</td>\n",
              "      <td>4</td>\n",
              "      <td>2</td>\n",
              "      <td>0</td>\n",
              "    </tr>\n",
              "    <tr>\n",
              "      <th>14</th>\n",
              "      <td>14</td>\n",
              "      <td>mình mua dc number tuần máy phát trực_tiếp tự_...</td>\n",
              "      <td>1</td>\n",
              "      <td>21/04/2020</td>\n",
              "      <td>Negative</td>\n",
              "      <td>True</td>\n",
              "      <td>0</td>\n",
              "      <td>0</td>\n",
              "      <td>3</td>\n",
              "    </tr>\n",
              "    <tr>\n",
              "      <th>18</th>\n",
              "      <td>18</td>\n",
              "      <td>dùng đơ máy bấm mãi mới khởi_động song nóng ra...</td>\n",
              "      <td>1</td>\n",
              "      <td>21/04/2020</td>\n",
              "      <td>Negative</td>\n",
              "      <td>True</td>\n",
              "      <td>0</td>\n",
              "      <td>0</td>\n",
              "      <td>1</td>\n",
              "    </tr>\n",
              "  </tbody>\n",
              "</table>\n",
              "</div>"
            ],
            "text/plain": [
              "    index                                            comment  n_star  \\\n",
              "0       0  mới mua máy thegioididong thốt_nốt cảm_thấy ok...       5   \n",
              "6       6  mình mới xài number tháng xuống number pin chả...       1   \n",
              "11     11  khá ổn trong tầm giá cam đẹp sạc nhanh màn_hìn...       5   \n",
              "14     14  mình mua dc number tuần máy phát trực_tiếp tự_...       1   \n",
              "18     18  dùng đơ máy bấm mãi mới khởi_động song nóng ra...       1   \n",
              "\n",
              "     date_time     label  contains_features  positive_count  neutral_count  \\\n",
              "0   21/04/2020  Positive               True               6              0   \n",
              "6   21/04/2020  Negative               True               0              0   \n",
              "11  21/04/2020  Positive               True               4              2   \n",
              "14  21/04/2020  Negative               True               0              0   \n",
              "18  21/04/2020  Negative               True               0              0   \n",
              "\n",
              "    negative_count  \n",
              "0                0  \n",
              "6                1  \n",
              "11               0  \n",
              "14               3  \n",
              "18               1  "
            ]
          },
          "execution_count": 91,
          "metadata": {},
          "output_type": "execute_result"
        }
      ],
      "source": [
        "invalid_dates.head(5)"
      ]
    },
    {
      "cell_type": "markdown",
      "metadata": {},
      "source": [
        "> combine invalid_dates and valid_dates"
      ]
    },
    {
      "cell_type": "code",
      "execution_count": 92,
      "metadata": {},
      "outputs": [],
      "source": [
        "df_train=pd.concat([valid_dates,invalid_dates],ignore_index=True)\n",
        "df_test=pd.concat ([valid_dates_test,invalid_dates_test],ignore_index=True)"
      ]
    },
    {
      "cell_type": "code",
      "execution_count": 93,
      "metadata": {},
      "outputs": [
        {
          "data": {
            "text/plain": [
              "(8898, 9)"
            ]
          },
          "execution_count": 93,
          "metadata": {},
          "output_type": "execute_result"
        }
      ],
      "source": [
        "df_train.shape"
      ]
    },
    {
      "cell_type": "code",
      "execution_count": 94,
      "metadata": {},
      "outputs": [
        {
          "data": {
            "text/html": [
              "<div>\n",
              "<style scoped>\n",
              "    .dataframe tbody tr th:only-of-type {\n",
              "        vertical-align: middle;\n",
              "    }\n",
              "\n",
              "    .dataframe tbody tr th {\n",
              "        vertical-align: top;\n",
              "    }\n",
              "\n",
              "    .dataframe thead th {\n",
              "        text-align: right;\n",
              "    }\n",
              "</style>\n",
              "<table border=\"1\" class=\"dataframe\">\n",
              "  <thead>\n",
              "    <tr style=\"text-align: right;\">\n",
              "      <th></th>\n",
              "      <th>index</th>\n",
              "      <th>comment</th>\n",
              "      <th>n_star</th>\n",
              "      <th>date_time</th>\n",
              "      <th>label</th>\n",
              "      <th>contains_features</th>\n",
              "      <th>positive_count</th>\n",
              "      <th>neutral_count</th>\n",
              "      <th>negative_count</th>\n",
              "    </tr>\n",
              "  </thead>\n",
              "  <tbody>\n",
              "    <tr>\n",
              "      <th>0</th>\n",
              "      <td>1</td>\n",
              "      <td>pin kém còn miễn chê mua number tình_trạng pin...</td>\n",
              "      <td>5</td>\n",
              "      <td>14/09/2019</td>\n",
              "      <td>Neutral</td>\n",
              "      <td>True</td>\n",
              "      <td>1</td>\n",
              "      <td>0</td>\n",
              "      <td>1</td>\n",
              "    </tr>\n",
              "    <tr>\n",
              "      <th>1</th>\n",
              "      <td>2</td>\n",
              "      <td>sao gọi điện_thoại màn_hình chấm nhỏ nháy gần ...</td>\n",
              "      <td>3</td>\n",
              "      <td>17/08/2020</td>\n",
              "      <td>Negative</td>\n",
              "      <td>True</td>\n",
              "      <td>0</td>\n",
              "      <td>0</td>\n",
              "      <td>1</td>\n",
              "    </tr>\n",
              "    <tr>\n",
              "      <th>2</th>\n",
              "      <td>3</td>\n",
              "      <td>mọi người cập_nhật phần_mềm nó bớt tốn pin mìn...</td>\n",
              "      <td>3</td>\n",
              "      <td>29/02/2020</td>\n",
              "      <td>Neutral</td>\n",
              "      <td>True</td>\n",
              "      <td>0</td>\n",
              "      <td>2</td>\n",
              "      <td>1</td>\n",
              "    </tr>\n",
              "    <tr>\n",
              "      <th>3</th>\n",
              "      <td>4</td>\n",
              "      <td>mới mua sài number tháng thấy pin trâu sài bao...</td>\n",
              "      <td>5</td>\n",
              "      <td>4/6/2020</td>\n",
              "      <td>Positive</td>\n",
              "      <td>True</td>\n",
              "      <td>2</td>\n",
              "      <td>0</td>\n",
              "      <td>1</td>\n",
              "    </tr>\n",
              "    <tr>\n",
              "      <th>4</th>\n",
              "      <td>5</td>\n",
              "      <td>xài tốt mượt pin trâu bạn độ sáng đủ nhân_viên...</td>\n",
              "      <td>5</td>\n",
              "      <td>20/06/2019</td>\n",
              "      <td>Positive</td>\n",
              "      <td>True</td>\n",
              "      <td>3</td>\n",
              "      <td>2</td>\n",
              "      <td>0</td>\n",
              "    </tr>\n",
              "  </tbody>\n",
              "</table>\n",
              "</div>"
            ],
            "text/plain": [
              "   index                                            comment  n_star  \\\n",
              "0      1  pin kém còn miễn chê mua number tình_trạng pin...       5   \n",
              "1      2  sao gọi điện_thoại màn_hình chấm nhỏ nháy gần ...       3   \n",
              "2      3  mọi người cập_nhật phần_mềm nó bớt tốn pin mìn...       3   \n",
              "3      4  mới mua sài number tháng thấy pin trâu sài bao...       5   \n",
              "4      5  xài tốt mượt pin trâu bạn độ sáng đủ nhân_viên...       5   \n",
              "\n",
              "    date_time     label  contains_features  positive_count  neutral_count  \\\n",
              "0  14/09/2019   Neutral               True               1              0   \n",
              "1  17/08/2020  Negative               True               0              0   \n",
              "2  29/02/2020   Neutral               True               0              2   \n",
              "3    4/6/2020  Positive               True               2              0   \n",
              "4  20/06/2019  Positive               True               3              2   \n",
              "\n",
              "   negative_count  \n",
              "0               1  \n",
              "1               1  \n",
              "2               1  \n",
              "3               1  \n",
              "4               0  "
            ]
          },
          "execution_count": 94,
          "metadata": {},
          "output_type": "execute_result"
        }
      ],
      "source": [
        "df_train.head(5)"
      ]
    },
    {
      "cell_type": "markdown",
      "metadata": {},
      "source": [
        ">Remove index and contains_features columns "
      ]
    },
    {
      "cell_type": "code",
      "execution_count": 95,
      "metadata": {},
      "outputs": [],
      "source": [
        "df_train.drop([\"index\",'contains_features'],axis=1,inplace=True)\n",
        "df_test.drop(['index'],axis=1,inplace=True)"
      ]
    },
    {
      "cell_type": "code",
      "execution_count": 96,
      "metadata": {},
      "outputs": [
        {
          "data": {
            "text/plain": [
              "(8898, 7)"
            ]
          },
          "execution_count": 96,
          "metadata": {},
          "output_type": "execute_result"
        }
      ],
      "source": [
        "df_train.shape"
      ]
    },
    {
      "cell_type": "code",
      "execution_count": 97,
      "metadata": {},
      "outputs": [
        {
          "data": {
            "text/html": [
              "<div>\n",
              "<style scoped>\n",
              "    .dataframe tbody tr th:only-of-type {\n",
              "        vertical-align: middle;\n",
              "    }\n",
              "\n",
              "    .dataframe tbody tr th {\n",
              "        vertical-align: top;\n",
              "    }\n",
              "\n",
              "    .dataframe thead th {\n",
              "        text-align: right;\n",
              "    }\n",
              "</style>\n",
              "<table border=\"1\" class=\"dataframe\">\n",
              "  <thead>\n",
              "    <tr style=\"text-align: right;\">\n",
              "      <th></th>\n",
              "      <th>comment</th>\n",
              "      <th>n_star</th>\n",
              "      <th>date_time</th>\n",
              "      <th>label</th>\n",
              "      <th>positive_count</th>\n",
              "      <th>neutral_count</th>\n",
              "      <th>negative_count</th>\n",
              "    </tr>\n",
              "  </thead>\n",
              "  <tbody>\n",
              "    <tr>\n",
              "      <th>0</th>\n",
              "      <td>pin kém còn miễn chê mua number tình_trạng pin...</td>\n",
              "      <td>5</td>\n",
              "      <td>14/09/2019</td>\n",
              "      <td>Neutral</td>\n",
              "      <td>1</td>\n",
              "      <td>0</td>\n",
              "      <td>1</td>\n",
              "    </tr>\n",
              "    <tr>\n",
              "      <th>1</th>\n",
              "      <td>sao gọi điện_thoại màn_hình chấm nhỏ nháy gần ...</td>\n",
              "      <td>3</td>\n",
              "      <td>17/08/2020</td>\n",
              "      <td>Negative</td>\n",
              "      <td>0</td>\n",
              "      <td>0</td>\n",
              "      <td>1</td>\n",
              "    </tr>\n",
              "    <tr>\n",
              "      <th>2</th>\n",
              "      <td>mọi người cập_nhật phần_mềm nó bớt tốn pin mìn...</td>\n",
              "      <td>3</td>\n",
              "      <td>29/02/2020</td>\n",
              "      <td>Neutral</td>\n",
              "      <td>0</td>\n",
              "      <td>2</td>\n",
              "      <td>1</td>\n",
              "    </tr>\n",
              "    <tr>\n",
              "      <th>3</th>\n",
              "      <td>mới mua sài number tháng thấy pin trâu sài bao...</td>\n",
              "      <td>5</td>\n",
              "      <td>4/6/2020</td>\n",
              "      <td>Positive</td>\n",
              "      <td>2</td>\n",
              "      <td>0</td>\n",
              "      <td>1</td>\n",
              "    </tr>\n",
              "    <tr>\n",
              "      <th>4</th>\n",
              "      <td>xài tốt mượt pin trâu bạn độ sáng đủ nhân_viên...</td>\n",
              "      <td>5</td>\n",
              "      <td>20/06/2019</td>\n",
              "      <td>Positive</td>\n",
              "      <td>3</td>\n",
              "      <td>2</td>\n",
              "      <td>0</td>\n",
              "    </tr>\n",
              "  </tbody>\n",
              "</table>\n",
              "</div>"
            ],
            "text/plain": [
              "                                             comment  n_star   date_time  \\\n",
              "0  pin kém còn miễn chê mua number tình_trạng pin...       5  14/09/2019   \n",
              "1  sao gọi điện_thoại màn_hình chấm nhỏ nháy gần ...       3  17/08/2020   \n",
              "2  mọi người cập_nhật phần_mềm nó bớt tốn pin mìn...       3  29/02/2020   \n",
              "3  mới mua sài number tháng thấy pin trâu sài bao...       5    4/6/2020   \n",
              "4  xài tốt mượt pin trâu bạn độ sáng đủ nhân_viên...       5  20/06/2019   \n",
              "\n",
              "      label  positive_count  neutral_count  negative_count  \n",
              "0   Neutral               1              0               1  \n",
              "1  Negative               0              0               1  \n",
              "2   Neutral               0              2               1  \n",
              "3  Positive               2              0               1  \n",
              "4  Positive               3              2               0  "
            ]
          },
          "execution_count": 97,
          "metadata": {},
          "output_type": "execute_result"
        }
      ],
      "source": [
        "df_train.head(5)"
      ]
    },
    {
      "cell_type": "code",
      "execution_count": 98,
      "metadata": {},
      "outputs": [
        {
          "data": {
            "text/plain": [
              "'pin kém còn miễn chê mua number tình_trạng pin còn number ai giống tôi'"
            ]
          },
          "execution_count": 98,
          "metadata": {},
          "output_type": "execute_result"
        }
      ],
      "source": [
        "df_train['comment'][0]"
      ]
    },
    {
      "cell_type": "markdown",
      "metadata": {},
      "source": [
        "> Dump file CSV after data processing"
      ]
    },
    {
      "cell_type": "code",
      "execution_count": 99,
      "metadata": {},
      "outputs": [],
      "source": [
        "df_train.to_csv(\"../data/data_processed/trainprocessed.csv\", index=False)\n",
        "df_test.to_csv(\"../data/data_processed/testprocesssed.csv\",index=False)"
      ]
    }
  ],
  "metadata": {
    "colab": {
      "provenance": []
    },
    "kernelspec": {
      "display_name": "Python 3",
      "name": "python3"
    },
    "language_info": {
      "codemirror_mode": {
        "name": "ipython",
        "version": 3
      },
      "file_extension": ".py",
      "mimetype": "text/x-python",
      "name": "python",
      "nbconvert_exporter": "python",
      "pygments_lexer": "ipython3",
      "version": "3.11.5"
    }
  },
  "nbformat": 4,
  "nbformat_minor": 0
}
